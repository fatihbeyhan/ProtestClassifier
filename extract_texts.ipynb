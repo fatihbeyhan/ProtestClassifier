{
 "cells": [
  {
   "cell_type": "code",
   "execution_count": 1,
   "metadata": {},
   "outputs": [],
   "source": [
    "import requests\n",
    "from bs4 import BeautifulSoup\n",
    "import pandas as pd"
   ]
  },
  {
   "cell_type": "code",
   "execution_count": 2,
   "metadata": {},
   "outputs": [],
   "source": [
    "# getting url list to feed into extraction\n",
    "links = pd.DataFrame(pd.read_csv('intern_train.csv'))\n",
    "links_list = list(links.url)"
   ]
  },
  {
   "cell_type": "markdown",
   "metadata": {},
   "source": [
    "# Newspaper3k Extraction"
   ]
  },
  {
   "cell_type": "code",
   "execution_count": 30,
   "metadata": {},
   "outputs": [],
   "source": [
    "from newspaper import fulltext\n",
    "\n",
    "def get_text(url):\n",
    "    \n",
    "    # getting section and location parts (if it exists) from links \n",
    "    meta = []\n",
    "    for part in url.split('/'):\n",
    "        \n",
    "        if part.startswith('tp-'):\n",
    "            meta.append(part[3:])\n",
    "        \n",
    "    section = \"None\"\n",
    "    location = \"None\"\n",
    "    \n",
    "    if len(meta) == 2:\n",
    "        section = meta[0]\n",
    "        location = meta[1]\n",
    "    elif len(meta) == 1:\n",
    "        section = meta[0]  \n",
    "    elif len(meta) == 0:\n",
    "        pass\n",
    "    \n",
    "    # getting the htmls\n",
    "    html = requests.get(url).text\n",
    "    soup = BeautifulSoup(html)\n",
    "    \n",
    "    # extract the headline\n",
    "    headline = soup.find_all('h1')[0].text.strip()\n",
    "    \n",
    "    # get the text\n",
    "    text = fulltext(html).replace('\\n',' ').replace('  ',' ')\n",
    "    \n",
    "    # clean the staff reporter part. usually its the beginning of the news.\n",
    "    if text.startswith(\"Staff Reporter\"):\n",
    "        text = text[text.index(\":\")+2:]\n",
    "    \n",
    "    \n",
    "    return url,section,location,headline,text"
   ]
  },
  {
   "cell_type": "code",
   "execution_count": 32,
   "metadata": {},
   "outputs": [
    {
     "data": {
      "text/plain": [
       "('http://www.thehindu.com/todays-paper/tp-opinion/UPA-rule/article14768122.ece',\n",
       " 'opinion',\n",
       " 'None',\n",
       " 'UPA rule',\n",
       " \"There are no doubt lapses in the performance of the UPA government in the three years it has been in power, the failure to control price rise being one of them. However, the government has provided the much-needed stability at the Centre. Its handling of foreign affairs is particularly noteworthy. The Right to Information Act, the National Rural Employment Guarantee Programme, and the civilian nuclear deal with the U.S. are some of its achievements. D.B.N. Murthy, Bangalore The three years of UPA rule have seen some unprecedented social justice measures that seek to involve every section in the nation's development. Though the measures are yet to be implemented in full, a sincere attempt is being made to implement them. Surely the nation cannot become a developed one when large sections remain out of the national mainstream. Let India shine for everyone. Sachin Kurmi, Ghaziabad The government is doing very well on all fronts, particularly agriculture which the NDA government had totally neglected. It will take some more time for all the initiatives to bear fruit. As for inflation, some inflation is desirable as it is a consequence of robust economic growth. Sanjay Kuruba, Bangalore While the UPA government can be credited with some achievements, its shortcomings outweigh them. The biggest drawback is a Prime Minister who is unable to assert himself. On the economic front, all and sundry items are taxed in the name of service tax and the additional burden is passed on to the common man. Economic growth is lopsided with the stress on urban uplift. Even the retail sector is being taken over by multinationals. In spite of one of the biggest economic brains heading the government, the country is cracking under rising prices. K.R.A. Narasiah, Chennai The Prime Minister is facing an uphill task of implementing the common minimum programme in a coalition set-up, thanks to the threats from allies and supporting parties. Inflation has been galloping by leaps and bounds affecting the common man. Unemployment is on the increase. In the name of industrialisation, acres and acres of cultivable lands across the country have been reduced to nothing. The UPA government is of the rich, for the rich, and by the rich. L.R. Moorthy, Thane The UPA came to power with a promise to respond to the needs of the aam admi. Except for the introduction of NREGP and withdrawal of POTA, the government has nothing much to show as achievements. At the end of the day, the aam admi is still searching for the elusive promises made three years ago. Mere slogans cannot sustain a democracy. The NDA lost power for reasons the present government is aware of. It is time it pulled its socks up. N. Divakar, Mysore\")"
      ]
     },
     "execution_count": 32,
     "metadata": {},
     "output_type": "execute_result"
    }
   ],
   "source": [
    "get_text(links_list[432])"
   ]
  },
  {
   "cell_type": "code",
   "execution_count": 35,
   "metadata": {},
   "outputs": [],
   "source": [
    "def create_documents(links_list):\n",
    "    # this function will take the list of the urls  and extract one by one and save it into a list which will be a \n",
    "         # dataframe later on. and saving it as .csv to use it. \n",
    "    results = []\n",
    "    \n",
    "    for url in links_list:\n",
    "        label = int(links.label.iloc[links_list.index(url):links_list.index(url)+1])\n",
    "        \n",
    "        r = requests.get(url)\n",
    "        \n",
    "        \n",
    "        url,section,location,headline,text=get_text(url)\n",
    "        \n",
    "        results.append([url,section,location,headline,text,label])\n",
    "        \n",
    "    return results"
   ]
  },
  {
   "cell_type": "code",
   "execution_count": 36,
   "metadata": {},
   "outputs": [],
   "source": [
    "res = create_documents(links_list)"
   ]
  },
  {
   "cell_type": "code",
   "execution_count": 37,
   "metadata": {},
   "outputs": [],
   "source": [
    "pd.DataFrame(res).to_csv(\"extracted_data.csv\")"
   ]
  }
 ],
 "metadata": {
  "kernelspec": {
   "display_name": "Python 3",
   "language": "python",
   "name": "python3"
  },
  "language_info": {
   "codemirror_mode": {
    "name": "ipython",
    "version": 3
   },
   "file_extension": ".py",
   "mimetype": "text/x-python",
   "name": "python",
   "nbconvert_exporter": "python",
   "pygments_lexer": "ipython3",
   "version": "3.7.4"
  }
 },
 "nbformat": 4,
 "nbformat_minor": 2
}

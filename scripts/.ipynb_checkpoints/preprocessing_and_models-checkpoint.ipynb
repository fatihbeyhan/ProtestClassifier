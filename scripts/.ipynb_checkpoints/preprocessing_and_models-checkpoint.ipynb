{
 "cells": [
  {
   "cell_type": "code",
   "execution_count": 1,
   "metadata": {},
   "outputs": [],
   "source": [
    "import pandas as pd\n",
    "from nltk.stem import WordNetLemmatizer, SnowballStemmer\n",
    "import nltk\n",
    "from nltk.corpus import stopwords\n",
    "import matplotlib.pyplot as plt\n",
    "import numpy as np\n",
    "from sklearn.feature_extraction.text import TfidfVectorizer,CountVectorizer,TfidfTransformer\n",
    "from sklearn.svm import SVC,LinearSVC\n",
    "from sklearn.linear_model import LogisticRegression\n",
    "from sklearn.neighbors import KNeighborsClassifier\n",
    "from sklearn.model_selection import cross_val_score,train_test_split,GridSearchCV\n",
    "from sklearn.metrics import roc_auc_score,confusion_matrix,accuracy_score,f1_score,precision_score,recall_score,precision_recall_fscore_support,classification_report\n",
    "from sklearn.decomposition import PCA\n",
    "from sklearn.pipeline import Pipeline\n",
    "import seaborn as sns\n",
    "import pickle\n",
    "%matplotlib inline\n",
    "stopwords = stopwords.words('english')"
   ]
  },
  {
   "cell_type": "markdown",
   "metadata": {},
   "source": [
    "## Load Trained Models"
   ]
  },
  {
   "cell_type": "code",
   "execution_count": 2,
   "metadata": {},
   "outputs": [],
   "source": [
    "MODEL = \"un_svc_model.sav\"\n",
    "loaded_model = pickle.load(open(\"../models/\"+MODEL, 'rb'))"
   ]
  },
  {
   "cell_type": "code",
   "execution_count": 3,
   "metadata": {},
   "outputs": [
    {
     "data": {
      "text/plain": [
       "{'clf__C': 1.0,\n",
       " 'clf__class_weight': {1: 1, 0: 1},\n",
       " 'clf__kernel': 'sigmoid',\n",
       " 'tfidf__min_df': 4,\n",
       " 'tfidf__ngram_range': (1, 2)}"
      ]
     },
     "execution_count": 3,
     "metadata": {},
     "output_type": "execute_result"
    }
   ],
   "source": [
    "loaded_model.best_params_"
   ]
  },
  {
   "cell_type": "markdown",
   "metadata": {},
   "source": [
    "## 1. preprocessing"
   ]
  },
  {
   "cell_type": "code",
   "execution_count": 4,
   "metadata": {},
   "outputs": [],
   "source": [
    "# getting the extracted news as df\n",
    "data = pd.read_csv('../data/extracted_data.csv').drop('Unnamed: 0', axis=1)\n",
    "data.columns = ['url','section','location','headline','text','label']\n",
    "\n",
    "\n",
    "# getting the extracted test news as df\n",
    "data_test = pd.read_csv('../data/extracted_test_data.csv').drop('Unnamed: 0', axis=1)\n",
    "data_test.columns = ['url','section','location','headline','text','label']"
   ]
  },
  {
   "cell_type": "code",
   "execution_count": 5,
   "metadata": {},
   "outputs": [],
   "source": [
    "# merging headline and content as another column and create another dataframe with jusst text and label.\n",
    "df = pd.DataFrame([data.headline+\". \"+data.text,data.label]).transpose()\n",
    "df.columns = ['text','label']\n",
    "\n",
    "\n",
    "# merging headline and content as another column and create another dataframe with jusst text and label.\n",
    "df_test = pd.DataFrame([data_test.headline+\". \"+data_test.text,data_test.label]).transpose()\n",
    "df_test.columns = ['text','label']\n",
    "\n",
    "df = pd.concat([df,df_test])"
   ]
  },
  {
   "cell_type": "code",
   "execution_count": 6,
   "metadata": {},
   "outputs": [],
   "source": [
    "df = df.reset_index().drop('index',axis=1)"
   ]
  },
  {
   "cell_type": "code",
   "execution_count": 7,
   "metadata": {},
   "outputs": [
    {
     "data": {
      "text/plain": [
       "0      Readers mail. SC ruling on alimony The Supreme...\n",
       "1      Niqaab is ‘the elephant in the courtroom’, say...\n",
       "2      Grandparents honoured. Staff and students of G...\n",
       "3      Fishermen call off strike. The country boat fi...\n",
       "4      Badal meets PM, seeks clemency for Bhullar. Pu...\n",
       "                             ...                        \n",
       "769    Civil Supplies dept invites proposals for new ...\n",
       "770    Navarathri celebrations at Reeds. The festival...\n",
       "771    Kiran to visit flood-hit areas. Chief Minister...\n",
       "772    Hyderabad baby Huggies Superstar. An 18-month-...\n",
       "773    Children's cultural fiesta concludes. ‘Kids Fe...\n",
       "Name: text, Length: 774, dtype: object"
      ]
     },
     "execution_count": 7,
     "metadata": {},
     "output_type": "execute_result"
    }
   ],
   "source": [
    "# here is the text\n",
    "df.text"
   ]
  },
  {
   "cell_type": "code",
   "execution_count": 8,
   "metadata": {},
   "outputs": [],
   "source": [
    "# preprocessing function \n",
    "    # split an article into sentences\n",
    "        # go to each sentence and split it to words\n",
    "            # if this word  is not in stopwords or other common words I've decided\n",
    "                #AND\n",
    "                   # if its alphabetic (getting rid of puctuation and numbers)\n",
    "                        #AND\n",
    "                            # if len of the word is greater than 2\n",
    "                            \n",
    "                            # lemmatize and lowercase the the word\n",
    "                            \n",
    "                            # return the cleaned article\n",
    "def preprocess(news):\n",
    "    l = WordNetLemmatizer()\n",
    "    sentences = news.split(\".\")\n",
    "    return \" \".join([l.lemmatize(word.lower()) for sentence in sentences for word in sentence.split() if word not in stopwords if word.isalpha() if len(word)> 2 if word.lower() not in [\"said\",\"the\",\"first\",\"also\",\"would\",\"one\",\"two\",\"they\"]])"
   ]
  },
  {
   "cell_type": "code",
   "execution_count": 9,
   "metadata": {},
   "outputs": [],
   "source": [
    "# apply preprocess() function to each article\n",
    "df['text'] = df['text'].map(preprocess)\n",
    "\n",
    "\n",
    "\n",
    "# apply preprocess() function to each article\n",
    "df_test['text'] = df_test['text'].map(preprocess)"
   ]
  },
  {
   "cell_type": "code",
   "execution_count": 10,
   "metadata": {},
   "outputs": [
    {
     "data": {
      "text/plain": [
       "0      reader mail ruling alimony supreme court exten...\n",
       "1      niqaab elephant say judge person may give evid...\n",
       "2      grandparent honoured staff student global publ...\n",
       "3      fisherman call strike country boat fisherman l...\n",
       "4      badal meet seek clemency bhullar punjab chief ...\n",
       "                             ...                        \n",
       "769    civil supply dept invite proposal new logo pro...\n",
       "770    navarathri celebration reed festival dussehra ...\n",
       "771    kiran visit area chief minister kiran kumar re...\n",
       "772    hyderabad baby huggies superstar baby shrihaan...\n",
       "773    cultural fiesta concludes annual cultural fies...\n",
       "Name: text, Length: 774, dtype: object"
      ]
     },
     "execution_count": 10,
     "metadata": {},
     "output_type": "execute_result"
    }
   ],
   "source": [
    "df.text"
   ]
  },
  {
   "cell_type": "code",
   "execution_count": 11,
   "metadata": {},
   "outputs": [],
   "source": [
    "x_train,x_test,y_train,y_test = train_test_split(df.text,list(df.label),test_size=0.3,shuffle=True,random_state=22)"
   ]
  },
  {
   "cell_type": "markdown",
   "metadata": {},
   "source": [
    "##### **Our data is ready to be fed into vectorizers.**"
   ]
  },
  {
   "cell_type": "markdown",
   "metadata": {},
   "source": [
    "## 2. exploratory data analysis"
   ]
  },
  {
   "cell_type": "markdown",
   "metadata": {},
   "source": [
    "### 2.1 word freqs and lenghts"
   ]
  },
  {
   "cell_type": "code",
   "execution_count": 12,
   "metadata": {},
   "outputs": [],
   "source": [
    "def give_stats(list_of_articles):\n",
    "    \n",
    "    number_of_sentences = []\n",
    "    number_of_words = []\n",
    "    \n",
    "    for article in list_of_articles:\n",
    "        \n",
    "        sentences = article.split(\".\")\n",
    "        no_words = 0\n",
    "        for sen in sentences:\n",
    "            \n",
    "            words = [w for w in sen.split() if len(w) >1]\n",
    "            \n",
    "            no_words += len(words)\n",
    "            \n",
    "        number_of_sentences.append(len(sentences))\n",
    "        number_of_words.append(no_words)\n",
    "        \n",
    "    return number_of_sentences,number_of_words"
   ]
  },
  {
   "cell_type": "code",
   "execution_count": 13,
   "metadata": {},
   "outputs": [
    {
     "data": {
      "text/plain": [
       "(1, 736, 1, 11, 1.0, 126.47545219638243)"
      ]
     },
     "execution_count": 13,
     "metadata": {},
     "output_type": "execute_result"
    }
   ],
   "source": [
    "s,w = give_stats(df.text)\n",
    "\n",
    "max(s),max(w),min(s),min(w),sum(s)/len(s),sum(w)/len(w)"
   ]
  },
  {
   "cell_type": "code",
   "execution_count": 14,
   "metadata": {},
   "outputs": [
    {
     "data": {
      "text/plain": [
       "(1, 736, 1, 15, 1.0, 116.7897435897436)"
      ]
     },
     "execution_count": 14,
     "metadata": {},
     "output_type": "execute_result"
    }
   ],
   "source": [
    "s,w = give_stats(df[df.label==1].text)\n",
    "\n",
    "max(s),max(w),min(s),min(w),sum(s)/len(s),sum(w)/len(w)"
   ]
  },
  {
   "cell_type": "code",
   "execution_count": 15,
   "metadata": {},
   "outputs": [
    {
     "data": {
      "text/plain": [
       "(1, 600, 1, 11, 1.0, 129.73747841105353)"
      ]
     },
     "execution_count": 15,
     "metadata": {},
     "output_type": "execute_result"
    }
   ],
   "source": [
    "s,w = give_stats(df[df.label==0].text)\n",
    "\n",
    "max(s),max(w),min(s),min(w),sum(s)/len(s),sum(w)/len(w)"
   ]
  },
  {
   "cell_type": "code",
   "execution_count": 16,
   "metadata": {},
   "outputs": [],
   "source": [
    "# getting protest and not_protest news\n",
    "protest_news = df[df.label == 1].text\n",
    "not_protest_news = df[df.label == 0].text"
   ]
  },
  {
   "cell_type": "code",
   "execution_count": 17,
   "metadata": {},
   "outputs": [],
   "source": [
    "# freq function:\n",
    "    # this function will return the first_n frequent words with their ratio in a giving list of articles\n",
    "\n",
    "def give_freqs(list_of_articles,first_n=10):\n",
    "    freqs = {}\n",
    "    for n in list_of_articles:\n",
    "        words = set(n.split())\n",
    "\n",
    "        for w in words:\n",
    "            if w not in freqs:\n",
    "                freqs[w] = 1\n",
    "            else:\n",
    "                freqs[w] += 1\n",
    "\n",
    "    f = [(freqs[w]/len(list_of_articles),w) for w in freqs]\n",
    "    f.sort(reverse=True)\n",
    "\n",
    "    return f[:first_n]"
   ]
  },
  {
   "cell_type": "code",
   "execution_count": 18,
   "metadata": {},
   "outputs": [
    {
     "data": {
      "text/plain": [
       "[(0.3023255813953488, 'government'),\n",
       " (0.28940568475452194, 'state'),\n",
       " (0.24160206718346253, 'district'),\n",
       " (0.2222222222222222, 'year'),\n",
       " (0.2157622739018088, 'minister'),\n",
       " (0.20025839793281655, 'take'),\n",
       " (0.19767441860465115, 'people'),\n",
       " (0.19121447028423771, 'police'),\n",
       " (0.19121447028423771, 'day'),\n",
       " (0.18992248062015504, 'time')]"
      ]
     },
     "execution_count": 18,
     "metadata": {},
     "output_type": "execute_result"
    }
   ],
   "source": [
    "give_freqs(df.text)"
   ]
  },
  {
   "cell_type": "code",
   "execution_count": 19,
   "metadata": {},
   "outputs": [
    {
     "data": {
      "text/plain": [
       "[(0.4307692307692308, 'state'),\n",
       " (0.4307692307692308, 'government'),\n",
       " (0.4205128205128205, 'district'),\n",
       " (0.4153846153846154, 'protest'),\n",
       " (0.4, 'police'),\n",
       " (0.29743589743589743, 'leader'),\n",
       " (0.27692307692307694, 'minister'),\n",
       " (0.26153846153846155, 'member'),\n",
       " (0.2512820512820513, 'party'),\n",
       " (0.24615384615384617, 'staged')]"
      ]
     },
     "execution_count": 19,
     "metadata": {},
     "output_type": "execute_result"
    }
   ],
   "source": [
    "give_freqs(protest_news,10)"
   ]
  },
  {
   "cell_type": "code",
   "execution_count": 20,
   "metadata": {},
   "outputs": [
    {
     "data": {
      "text/plain": [
       "[(0.25906735751295334, 'government'),\n",
       " (0.24179620034542315, 'state'),\n",
       " (0.24006908462867013, 'year'),\n",
       " (0.21243523316062177, 'time'),\n",
       " (0.21243523316062177, 'take'),\n",
       " (0.20552677029360966, 'new'),\n",
       " (0.19516407599309155, 'people'),\n",
       " (0.19516407599309155, 'minister'),\n",
       " (0.18652849740932642, 'day'),\n",
       " (0.18134715025906736, 'district')]"
      ]
     },
     "execution_count": 20,
     "metadata": {},
     "output_type": "execute_result"
    }
   ],
   "source": [
    "give_freqs(not_protest_news,10)"
   ]
  },
  {
   "cell_type": "markdown",
   "metadata": {},
   "source": [
    "##### These two list has some common words with different ratios lets get what are the differences in the top 10 words"
   ]
  },
  {
   "cell_type": "code",
   "execution_count": 21,
   "metadata": {},
   "outputs": [
    {
     "data": {
      "text/plain": [
       "{'leader', 'member', 'party', 'police', 'protest', 'staged'}"
      ]
     },
     "execution_count": 21,
     "metadata": {},
     "output_type": "execute_result"
    }
   ],
   "source": [
    "protest_words = set([i[1] for i in give_freqs(protest_news,10)])-set([i[1] for i in give_freqs(not_protest_news,10)])\n",
    "\n",
    "# these are protest words which are not in not_protest words\n",
    "protest_words"
   ]
  },
  {
   "cell_type": "code",
   "execution_count": 22,
   "metadata": {},
   "outputs": [
    {
     "data": {
      "text/plain": [
       "{'day', 'new', 'people', 'take', 'time', 'year'}"
      ]
     },
     "execution_count": 22,
     "metadata": {},
     "output_type": "execute_result"
    }
   ],
   "source": [
    "not_protest_words= set([i[1] for i in give_freqs(not_protest_news,10)])-set([i[1] for i in give_freqs(protest_news,10)])\n",
    "# same for the not_protest news\n",
    "not_protest_words"
   ]
  },
  {
   "cell_type": "markdown",
   "metadata": {},
   "source": [
    "### 2.2 word affects & distinctive words"
   ]
  },
  {
   "cell_type": "markdown",
   "metadata": {},
   "source": [
    "##### Now, lets figure of what a single word can tell us about articles"
   ]
  },
  {
   "cell_type": "markdown",
   "metadata": {},
   "source": [
    "#### \"protest\" affect:"
   ]
  },
  {
   "cell_type": "markdown",
   "metadata": {},
   "source": [
    "as it can be seen on the word freqs \"protest\" is exists in the ~40% of the protest news and it does not exist on the not_protest news."
   ]
  },
  {
   "cell_type": "code",
   "execution_count": 23,
   "metadata": {},
   "outputs": [],
   "source": [
    "# bayes theorem. \n",
    "    # finding the probability for being protest or not protest for an article which includes given word\n",
    "def word_affect(word):\n",
    "    number_of_occurance_in_protest_list = 0\n",
    "    for article in protest_news:\n",
    "        for w in article.split():\n",
    "            if w == word:\n",
    "                number_of_occurance_in_protest_list +=1\n",
    "                break \n",
    "                \n",
    "    number_of_occurance_in_not_protest_list = 0\n",
    "    for article in not_protest_news:\n",
    "        for w in article.split():\n",
    "            if w == word:\n",
    "                number_of_occurance_in_not_protest_list +=1\n",
    "                break       \n",
    "\n",
    "    \n",
    "    pi1 = len(protest_news)/(len(protest_news)+len(not_protest_news))\n",
    "    pi2 = len(not_protest_news)/(len(protest_news)+len(not_protest_news))\n",
    "    fkx = number_of_occurance_in_protest_list/len(protest_news)\n",
    "    fkx_ = number_of_occurance_in_not_protest_list/len(not_protest_news)\n",
    "    prob = (pi1*fkx)/((pi1*fkx)+(pi2*fkx_))\n",
    "    \n",
    "    \n",
    "    #returns (probability of protest, probability of not protest)\n",
    "        # this is might seem counterintutitive with word freqs but we must remember the ratio of news\n",
    "    return(prob,1-prob)"
   ]
  },
  {
   "cell_type": "code",
   "execution_count": 24,
   "metadata": {},
   "outputs": [
    {
     "data": {
      "text/plain": [
       "(0.801980198019802, 0.19801980198019797)"
      ]
     },
     "execution_count": 24,
     "metadata": {},
     "output_type": "execute_result"
    }
   ],
   "source": [
    "word_affect(\"protest\")"
   ]
  },
  {
   "cell_type": "code",
   "execution_count": 25,
   "metadata": {},
   "outputs": [
    {
     "data": {
      "text/plain": [
       "(0.25000000000000006, 0.75)"
      ]
     },
     "execution_count": 25,
     "metadata": {},
     "output_type": "execute_result"
    }
   ],
   "source": [
    "word_affect(\"holiday\")"
   ]
  },
  {
   "cell_type": "code",
   "execution_count": 26,
   "metadata": {},
   "outputs": [
    {
     "data": {
      "text/plain": [
       "(0.5270270270270271, 0.4729729729729729)"
      ]
     },
     "execution_count": 26,
     "metadata": {},
     "output_type": "execute_result"
    }
   ],
   "source": [
    "word_affect(\"police\")"
   ]
  },
  {
   "cell_type": "markdown",
   "metadata": {},
   "source": [
    "### 2.3 class disturbition"
   ]
  },
  {
   "cell_type": "code",
   "execution_count": 27,
   "metadata": {},
   "outputs": [
    {
     "name": "stdout",
     "output_type": "stream",
     "text": [
      "0    579\n",
      "1    195\n",
      "Name: label, dtype: int64\n",
      "0.562015503875969\n"
     ]
    },
    {
     "data": {
      "text/plain": [
       "<matplotlib.axes._subplots.AxesSubplot at 0x2268ae881c8>"
      ]
     },
     "execution_count": 27,
     "metadata": {},
     "output_type": "execute_result"
    },
    {
     "data": {
      "image/png": "[encoded data removed]",
      "text/plain": [
       "<Figure size 432x288 with 1 Axes>"
      ]
     },
     "metadata": {
      "needs_background": "light"
     },
     "output_type": "display_data"
    }
   ],
   "source": [
    "print(df.label.value_counts())\n",
    "print(435/sum(df.label.value_counts().values))\n",
    "df.label.hist()"
   ]
  },
  {
   "cell_type": "code",
   "execution_count": 28,
   "metadata": {},
   "outputs": [
    {
     "name": "stdout",
     "output_type": "stream",
     "text": [
      "0    144\n",
      "1     49\n",
      "Name: label, dtype: int64\n"
     ]
    },
    {
     "data": {
      "text/plain": [
       "<matplotlib.axes._subplots.AxesSubplot at 0x2269ca730c8>"
      ]
     },
     "execution_count": 28,
     "metadata": {},
     "output_type": "execute_result"
    },
    {
     "data": {
      "image/png": "[encoded data removed]",
      "text/plain": [
       "<Figure size 432x288 with 1 Axes>"
      ]
     },
     "metadata": {
      "needs_background": "light"
     },
     "output_type": "display_data"
    }
   ],
   "source": [
    "print(df_test.label.value_counts())\n",
    "df_test.label.hist()"
   ]
  },
  {
   "cell_type": "markdown",
   "metadata": {},
   "source": [
    "- as it can be seen from the histogram, we have **unbalanced** data with ~25%,75% ratios.\n",
    "- this may cause some problems such as;\n",
    "    - focusing on wrong metrics, like accuracy, may mislead us. since, 75% of the data is 'class 0', if our model will label all the dataset as 'class 0', we'll get 75% accuracy."
   ]
  },
  {
   "cell_type": "markdown",
   "metadata": {},
   "source": [
    "##### I will first try some algorithms on whole dataset and then try to handle the \"unbalanced data\" problem withh under-sampling"
   ]
  },
  {
   "cell_type": "markdown",
   "metadata": {},
   "source": [
    "## 3. Training on Whole Data"
   ]
  },
  {
   "cell_type": "markdown",
   "metadata": {},
   "source": [
    "## 3.1 prepare data"
   ]
  },
  {
   "cell_type": "code",
   "execution_count": 266,
   "metadata": {},
   "outputs": [],
   "source": [
    "train_articles = x_train\n",
    "train_labels = y_train\n",
    "\n",
    "\n",
    "test_articles =  x_test\n",
    "test_labels = y_test"
   ]
  },
  {
   "cell_type": "markdown",
   "metadata": {},
   "source": [
    "## 3.2 GridSearch for Algorithms"
   ]
  },
  {
   "cell_type": "markdown",
   "metadata": {},
   "source": [
    "### 3.2.1 Logistic Regression"
   ]
  },
  {
   "cell_type": "code",
   "execution_count": 267,
   "metadata": {
    "scrolled": false
   },
   "outputs": [
    {
     "data": {
      "text/plain": [
       "0.6232752349977982"
      ]
     },
     "execution_count": 267,
     "metadata": {},
     "output_type": "execute_result"
    }
   ],
   "source": [
    "log_pipeline = Pipeline([\n",
    "    ('tfidf', TfidfVectorizer()),\n",
    "    ('clf', LogisticRegression()),\n",
    "])\n",
    "\n",
    "hyperparameters = dict(\n",
    "    tfidf__min_df      = (4, 10, 16),\n",
    "    tfidf__ngram_range = ((1, 1), (1, 2), (1, 3))\n",
    "    #clf__C             = np.logspace(0,9,10)\n",
    "    #clf__class_weight  = [{1:1,0:1},{1:2,0:1},{1:3,0:0.5}]\n",
    ")\n",
    "\n",
    "log_grid_search = GridSearchCV(log_pipeline, hyperparameters,cv=3,scoring='f1_macro')\n",
    "\n",
    "log_grid_search.fit(train_articles, train_labels)\n",
    "\n",
    "log_grid_search.best_score_"
   ]
  },
  {
   "cell_type": "code",
   "execution_count": 268,
   "metadata": {},
   "outputs": [
    {
     "data": {
      "text/plain": [
       "{'tfidf__min_df': 16, 'tfidf__ngram_range': (1, 2)}"
      ]
     },
     "execution_count": 268,
     "metadata": {},
     "output_type": "execute_result"
    }
   ],
   "source": [
    "log_grid_search.best_params_"
   ]
  },
  {
   "cell_type": "code",
   "execution_count": 269,
   "metadata": {},
   "outputs": [
    {
     "name": "stdout",
     "output_type": "stream",
     "text": [
      "              precision    recall  f1-score   support\n",
      "\n",
      "           0       0.87      1.00      0.93       405\n",
      "           1       0.99      0.56      0.71       136\n",
      "\n",
      "    accuracy                           0.89       541\n",
      "   macro avg       0.93      0.78      0.82       541\n",
      "weighted avg       0.90      0.89      0.88       541\n",
      "\n"
     ]
    }
   ],
   "source": [
    "print(classification_report(train_labels,\n",
    "                            log_grid_search.predict(train_articles)))"
   ]
  },
  {
   "cell_type": "markdown",
   "metadata": {},
   "source": [
    "__Test Scores For LogisticRegression()__"
   ]
  },
  {
   "cell_type": "code",
   "execution_count": 270,
   "metadata": {},
   "outputs": [
    {
     "name": "stdout",
     "output_type": "stream",
     "text": [
      "              precision    recall  f1-score   support\n",
      "\n",
      "           0       0.80      0.98      0.88       174\n",
      "           1       0.85      0.29      0.43        59\n",
      "\n",
      "    accuracy                           0.81       233\n",
      "   macro avg       0.83      0.64      0.66       233\n",
      "weighted avg       0.81      0.81      0.77       233\n",
      "\n"
     ]
    }
   ],
   "source": [
    "print(classification_report(test_labels,\n",
    "                            log_grid_search.predict(test_articles)))"
   ]
  },
  {
   "cell_type": "code",
   "execution_count": 271,
   "metadata": {},
   "outputs": [
    {
     "data": {
      "text/plain": [
       "array([[171,  42],\n",
       "       [  3,  17]], dtype=int64)"
      ]
     },
     "execution_count": 271,
     "metadata": {},
     "output_type": "execute_result"
    }
   ],
   "source": [
    "confusion_matrix(log_grid_search.predict(test_articles),\n",
    "                 test_labels)"
   ]
  },
  {
   "cell_type": "code",
   "execution_count": 183,
   "metadata": {},
   "outputs": [
    {
     "data": {
      "text/plain": [
       "array([[579,   0],\n",
       "       [  0, 195]], dtype=int64)"
      ]
     },
     "execution_count": 183,
     "metadata": {},
     "output_type": "execute_result"
    }
   ],
   "source": [
    "log_pipeline = Pipeline([\n",
    "    ('tfidf', TfidfVectorizer(min_df = 4,ngram_range=(1,2))),\n",
    "    ('clf', LogisticRegression(C=100)),\n",
    "])\n",
    "\n",
    "log_pipeline.fit(train_articles,train_labels)\n",
    "\n",
    "confusion_matrix(log_pipeline.predict(train_articles),train_labels)"
   ]
  },
  {
   "cell_type": "code",
   "execution_count": 184,
   "metadata": {},
   "outputs": [],
   "source": [
    "filename = 'C_logistic_model.sav'\n",
    "pickle.dump(log_pipeline, open(\"../models/\"+filename, 'wb'))"
   ]
  },
  {
   "cell_type": "markdown",
   "metadata": {},
   "source": [
    "### 3.2.2 Support Vector Classifier"
   ]
  },
  {
   "cell_type": "code",
   "execution_count": 242,
   "metadata": {},
   "outputs": [
    {
     "data": {
      "text/plain": [
       "0.7953362583298066"
      ]
     },
     "execution_count": 242,
     "metadata": {},
     "output_type": "execute_result"
    }
   ],
   "source": [
    "svc_pipeline = Pipeline([\n",
    "    ('tfidf', TfidfVectorizer()),\n",
    "    ('clf', SVC()),\n",
    "])\n",
    "\n",
    "hyperparameters = dict(\n",
    "    tfidf__min_df      = (4, 10, 16),\n",
    "    tfidf__ngram_range = ((1, 1), (1, 2), (1, 3)),\n",
    "    clf__kernel        = [\"linear\", \"poly\",\"sigmoid\"],\n",
    "    clf__gamma         = ('scale', 'auto')\n",
    ")\n",
    "\n",
    "svc_grid_search = GridSearchCV(svc_pipeline, hyperparameters,cv=3,scoring='f1_macro')\n",
    "\n",
    "svc_grid_search.fit(train_articles, train_labels)\n",
    "\n",
    "svc_grid_search.best_score_"
   ]
  },
  {
   "cell_type": "code",
   "execution_count": 243,
   "metadata": {},
   "outputs": [
    {
     "data": {
      "text/plain": [
       "{'clf__gamma': 'scale',\n",
       " 'clf__kernel': 'linear',\n",
       " 'tfidf__min_df': 4,\n",
       " 'tfidf__ngram_range': (1, 3)}"
      ]
     },
     "execution_count": 243,
     "metadata": {},
     "output_type": "execute_result"
    }
   ],
   "source": [
    "svc_grid_search.best_params_"
   ]
  },
  {
   "cell_type": "code",
   "execution_count": 244,
   "metadata": {
    "scrolled": false
   },
   "outputs": [
    {
     "name": "stdout",
     "output_type": "stream",
     "text": [
      "              precision    recall  f1-score   support\n",
      "\n",
      "           0       0.99      1.00      0.99       405\n",
      "           1       1.00      0.96      0.98       136\n",
      "\n",
      "    accuracy                           0.99       541\n",
      "   macro avg       0.99      0.98      0.99       541\n",
      "weighted avg       0.99      0.99      0.99       541\n",
      "\n"
     ]
    }
   ],
   "source": [
    "print(classification_report(train_labels,\n",
    "                            svc_grid_search.predict(train_articles)))"
   ]
  },
  {
   "cell_type": "markdown",
   "metadata": {},
   "source": [
    "___Test Scores For SVC()___ "
   ]
  },
  {
   "cell_type": "code",
   "execution_count": 245,
   "metadata": {},
   "outputs": [
    {
     "name": "stdout",
     "output_type": "stream",
     "text": [
      "              precision    recall  f1-score   support\n",
      "\n",
      "           0       0.90      0.97      0.93       174\n",
      "           1       0.89      0.68      0.77        59\n",
      "\n",
      "    accuracy                           0.90       233\n",
      "   macro avg       0.89      0.82      0.85       233\n",
      "weighted avg       0.90      0.90      0.89       233\n",
      "\n"
     ]
    }
   ],
   "source": [
    "print(classification_report(test_labels,\n",
    "                            svc_grid_search.predict(test_articles)))"
   ]
  },
  {
   "cell_type": "code",
   "execution_count": 258,
   "metadata": {},
   "outputs": [
    {
     "data": {
      "text/plain": [
       "array([[169,   5],\n",
       "       [ 19,  40]], dtype=int64)"
      ]
     },
     "execution_count": 258,
     "metadata": {},
     "output_type": "execute_result"
    }
   ],
   "source": [
    "confusion_matrix(test_labels,svc_grid_search.predict(test_articles))"
   ]
  },
  {
   "cell_type": "code",
   "execution_count": 259,
   "metadata": {},
   "outputs": [
    {
     "data": {
      "text/plain": [
       "array([[169,  19],\n",
       "       [  5,  40]], dtype=int64)"
      ]
     },
     "execution_count": 259,
     "metadata": {},
     "output_type": "execute_result"
    }
   ],
   "source": [
    "svc_pipeline = Pipeline([\n",
    "    ('tfidf', TfidfVectorizer(min_df = 4,ngram_range = (1, 3))),\n",
    "    ('clf', SVC(kernel=\"linear\",gamma=\"scale\"))])\n",
    "\n",
    "svc_pipeline.fit(train_articles,train_labels)\n",
    "\n",
    "confusion_matrix(svc_pipeline.predict(test_articles),test_labels)"
   ]
  },
  {
   "cell_type": "code",
   "execution_count": 260,
   "metadata": {},
   "outputs": [],
   "source": [
    "filename = 'C_svc_model.sav'\n",
    "pickle.dump(svc_pipeline, open(\"../models/\"+filename, 'wb'))"
   ]
  },
  {
   "cell_type": "markdown",
   "metadata": {},
   "source": [
    "### 3.2.3 KNN Classifier"
   ]
  },
  {
   "cell_type": "code",
   "execution_count": 247,
   "metadata": {},
   "outputs": [
    {
     "data": {
      "text/plain": [
       "0.7414057206252677"
      ]
     },
     "execution_count": 247,
     "metadata": {},
     "output_type": "execute_result"
    }
   ],
   "source": [
    "knn_pipeline = Pipeline([\n",
    "    ('tfidf', TfidfVectorizer()),\n",
    "    ('clf',KNeighborsClassifier()),\n",
    "])\n",
    "\n",
    "hyperparameters = dict(\n",
    "    tfidf__min_df      = (4, 10, 16, 20),\n",
    "    tfidf__ngram_range = ((1, 1), (1, 2)),\n",
    "    clf__n_neighbors   = (20,25,35),\n",
    "    clf__weights       = ('uniform','distance'),\n",
    "    clf__p             = (1,2)\n",
    ")\n",
    "\n",
    "knn_grid_search = GridSearchCV(knn_pipeline, hyperparameters,cv=3,scoring='f1_macro')\n",
    "\n",
    "knn_grid_search.fit(train_articles, train_labels)\n",
    "\n",
    "knn_grid_search.best_score_"
   ]
  },
  {
   "cell_type": "code",
   "execution_count": 248,
   "metadata": {},
   "outputs": [
    {
     "data": {
      "text/plain": [
       "{'clf__n_neighbors': 20,\n",
       " 'clf__p': 2,\n",
       " 'clf__weights': 'distance',\n",
       " 'tfidf__min_df': 4,\n",
       " 'tfidf__ngram_range': (1, 2)}"
      ]
     },
     "execution_count": 248,
     "metadata": {},
     "output_type": "execute_result"
    }
   ],
   "source": [
    "knn_grid_search.best_params_"
   ]
  },
  {
   "cell_type": "code",
   "execution_count": 249,
   "metadata": {},
   "outputs": [
    {
     "name": "stdout",
     "output_type": "stream",
     "text": [
      "              precision    recall  f1-score   support\n",
      "\n",
      "           0       1.00      1.00      1.00       405\n",
      "           1       1.00      1.00      1.00       136\n",
      "\n",
      "    accuracy                           1.00       541\n",
      "   macro avg       1.00      1.00      1.00       541\n",
      "weighted avg       1.00      1.00      1.00       541\n",
      "\n"
     ]
    }
   ],
   "source": [
    "print(classification_report(train_labels,\n",
    "                            knn_grid_search.predict(train_articles)))"
   ]
  },
  {
   "cell_type": "markdown",
   "metadata": {},
   "source": [
    "___Test Scores For KNN()___ "
   ]
  },
  {
   "cell_type": "code",
   "execution_count": 250,
   "metadata": {},
   "outputs": [
    {
     "name": "stdout",
     "output_type": "stream",
     "text": [
      "              precision    recall  f1-score   support\n",
      "\n",
      "           0       0.87      0.96      0.91       174\n",
      "           1       0.83      0.58      0.68        59\n",
      "\n",
      "    accuracy                           0.86       233\n",
      "   macro avg       0.85      0.77      0.80       233\n",
      "weighted avg       0.86      0.86      0.85       233\n",
      "\n"
     ]
    }
   ],
   "source": [
    "print(classification_report(test_labels,\n",
    "                            knn_grid_search.predict(test_articles)))"
   ]
  },
  {
   "cell_type": "code",
   "execution_count": 251,
   "metadata": {},
   "outputs": [
    {
     "data": {
      "text/plain": [
       "array([[167,   7],\n",
       "       [ 25,  34]], dtype=int64)"
      ]
     },
     "execution_count": 251,
     "metadata": {},
     "output_type": "execute_result"
    }
   ],
   "source": [
    "confusion_matrix(test_labels,\n",
    "                 knn_grid_search.predict(test_articles))"
   ]
  },
  {
   "cell_type": "code",
   "execution_count": 119,
   "metadata": {},
   "outputs": [
    {
     "data": {
      "text/plain": [
       "array([[296,  17],\n",
       "       [ 55, 178]], dtype=int64)"
      ]
     },
     "execution_count": 119,
     "metadata": {},
     "output_type": "execute_result"
    }
   ],
   "source": [
    "knn_pipeline = Pipeline([\n",
    "    ('tfidf', TfidfVectorizer(min_df=1,ngram_range=(1,2))),\n",
    "    ('clf',KNeighborsClassifier(n_neighbors=25,p=2,weights ='uniform')),\n",
    "])\n",
    "\n",
    "knn_pipeline.fit(train_articles,train_labels)\n",
    "\n",
    "confusion_matrix(knn_pipeline.predict(train_articles),train_labels)"
   ]
  },
  {
   "cell_type": "code",
   "execution_count": null,
   "metadata": {},
   "outputs": [],
   "source": []
  },
  {
   "cell_type": "markdown",
   "metadata": {},
   "source": [
    "### 3.2.4 Ensembling All Three"
   ]
  },
  {
   "cell_type": "code",
   "execution_count": 252,
   "metadata": {},
   "outputs": [],
   "source": [
    "s = svc_grid_search.predict(test_articles)\n",
    "l = log_grid_search.predict(test_articles)\n",
    "k = knn_grid_search.predict(test_articles)"
   ]
  },
  {
   "cell_type": "code",
   "execution_count": 253,
   "metadata": {},
   "outputs": [],
   "source": [
    "e = []\n",
    "for i in s+l+k:\n",
    "    if i > 1.5:\n",
    "        e.append(1)\n",
    "    else:\n",
    "        e.append(0)"
   ]
  },
  {
   "cell_type": "code",
   "execution_count": 254,
   "metadata": {},
   "outputs": [
    {
     "name": "stdout",
     "output_type": "stream",
     "text": [
      "              precision    recall  f1-score   support\n",
      "\n",
      "           0       0.86      0.98      0.91       174\n",
      "           1       0.89      0.53      0.66        59\n",
      "\n",
      "    accuracy                           0.86       233\n",
      "   macro avg       0.87      0.75      0.79       233\n",
      "weighted avg       0.87      0.86      0.85       233\n",
      "\n"
     ]
    }
   ],
   "source": [
    "print(classification_report(test_labels,\n",
    "                            e))"
   ]
  },
  {
   "cell_type": "code",
   "execution_count": 255,
   "metadata": {},
   "outputs": [
    {
     "data": {
      "text/plain": [
       "array([[170,   4],\n",
       "       [ 28,  31]], dtype=int64)"
      ]
     },
     "execution_count": 255,
     "metadata": {},
     "output_type": "execute_result"
    }
   ],
   "source": [
    "confusion_matrix(test_labels,\n",
    "                 e)"
   ]
  },
  {
   "cell_type": "markdown",
   "metadata": {},
   "source": [
    "On this settings, Logistic Regression is doing slighlty better than SVC"
   ]
  },
  {
   "cell_type": "markdown",
   "metadata": {},
   "source": [
    "##### Now, let's try same procedure for Under-Sampled Data"
   ]
  },
  {
   "cell_type": "markdown",
   "metadata": {},
   "source": [
    "## 4. Trainin on Under-Sampled Data"
   ]
  },
  {
   "cell_type": "markdown",
   "metadata": {},
   "source": [
    "## 4.1 prepare data"
   ]
  },
  {
   "cell_type": "code",
   "execution_count": 59,
   "metadata": {},
   "outputs": [],
   "source": [
    "undersampled_data =pd.concat([df[df.label == 0].sample(146),df[df.label == 1]]).sample(292).reset_index().drop('index',axis=1)"
   ]
  },
  {
   "cell_type": "code",
   "execution_count": 60,
   "metadata": {},
   "outputs": [],
   "source": [
    "undersampled_train_x = undersampled_data.text\n",
    "undersampled_train_y = list(undersampled_data.label)"
   ]
  },
  {
   "cell_type": "code",
   "execution_count": 61,
   "metadata": {},
   "outputs": [
    {
     "name": "stdout",
     "output_type": "stream",
     "text": [
      "1    146\n",
      "0    146\n",
      "Name: label, dtype: int64\n"
     ]
    },
    {
     "data": {
      "text/plain": [
       "<matplotlib.axes._subplots.AxesSubplot at 0x11a67115608>"
      ]
     },
     "execution_count": 61,
     "metadata": {},
     "output_type": "execute_result"
    },
    {
     "data": {
      "image/png": "[encoded data removed]",
      "text/plain": [
       "<Figure size 432x288 with 1 Axes>"
      ]
     },
     "metadata": {
      "needs_background": "light"
     },
     "output_type": "display_data"
    }
   ],
   "source": [
    "print(undersampled_data.label.value_counts())\n",
    "undersampled_data.label.hist()"
   ]
  },
  {
   "cell_type": "markdown",
   "metadata": {},
   "source": [
    "###### we achieved the balance by sacrificing on almost half of our data"
   ]
  },
  {
   "cell_type": "markdown",
   "metadata": {},
   "source": [
    "## 4.2 GridSearch for Algorithms"
   ]
  },
  {
   "cell_type": "markdown",
   "metadata": {},
   "source": [
    "### 4.2.1 Logistic Regression"
   ]
  },
  {
   "cell_type": "code",
   "execution_count": 62,
   "metadata": {
    "scrolled": true
   },
   "outputs": [
    {
     "data": {
      "text/plain": [
       "0.8593622495370216"
      ]
     },
     "execution_count": 62,
     "metadata": {},
     "output_type": "execute_result"
    }
   ],
   "source": [
    "un_log_pipeline = Pipeline([\n",
    "    ('tfidf', TfidfVectorizer()),\n",
    "    ('clf', LogisticRegression()),\n",
    "])\n",
    "\n",
    "hyperparameters = dict(\n",
    "    tfidf__min_df      = (4, 10),\n",
    "    tfidf__ngram_range = ((1, 1), (1, 2), (1, 3)),\n",
    "    clf__C             = np.logspace(0,4,10)\n",
    "    #clf__class_weight  = [{1:1,0:1},{1:2,0:1},{1:3,0:0.5}]\n",
    ")\n",
    "\n",
    "un_log_grid_search = GridSearchCV(un_log_pipeline, hyperparameters,cv=3,scoring='f1_macro')\n",
    "\n",
    "un_log_grid_search.fit(undersampled_train_x, undersampled_train_y)\n",
    "\n",
    "un_log_grid_search.best_score_"
   ]
  },
  {
   "cell_type": "code",
   "execution_count": 63,
   "metadata": {},
   "outputs": [
    {
     "data": {
      "text/plain": [
       "{'clf__C': 21.544346900318832,\n",
       " 'tfidf__min_df': 4,\n",
       " 'tfidf__ngram_range': (1, 1)}"
      ]
     },
     "execution_count": 63,
     "metadata": {},
     "output_type": "execute_result"
    }
   ],
   "source": [
    "un_log_grid_search.best_params_"
   ]
  },
  {
   "cell_type": "markdown",
   "metadata": {},
   "source": [
    "__Test Scores For LogisticRegression()__"
   ]
  },
  {
   "cell_type": "code",
   "execution_count": 64,
   "metadata": {},
   "outputs": [
    {
     "name": "stdout",
     "output_type": "stream",
     "text": [
      "              precision    recall  f1-score   support\n",
      "\n",
      "           0       0.96      0.90      0.92       144\n",
      "           1       0.74      0.88      0.80        49\n",
      "\n",
      "    accuracy                           0.89       193\n",
      "   macro avg       0.85      0.89      0.86       193\n",
      "weighted avg       0.90      0.89      0.89       193\n",
      "\n"
     ]
    }
   ],
   "source": [
    "print(classification_report(test_labels,\n",
    "                            un_log_grid_search.predict(test_articles)))"
   ]
  },
  {
   "cell_type": "code",
   "execution_count": 83,
   "metadata": {},
   "outputs": [],
   "source": [
    "filename = 'un_logistic_model.sav'\n",
    "pickle.dump(un_log_grid_search, open(\"models/\"+filename, 'wb'))"
   ]
  },
  {
   "cell_type": "markdown",
   "metadata": {},
   "source": [
    "### 4.2.2 Support Vector Classifier"
   ]
  },
  {
   "cell_type": "code",
   "execution_count": 70,
   "metadata": {},
   "outputs": [
    {
     "data": {
      "text/plain": [
       "0.8656727205654985"
      ]
     },
     "execution_count": 70,
     "metadata": {},
     "output_type": "execute_result"
    }
   ],
   "source": [
    "un_svc_pipeline = Pipeline([\n",
    "    ('tfidf', TfidfVectorizer()),\n",
    "    ('clf', SVC()),\n",
    "])\n",
    "\n",
    "hyperparameters = dict(\n",
    "    tfidf__min_df      = (4, 10, 16),\n",
    "    tfidf__ngram_range = ((1, 1), (1, 2), (1, 3)),\n",
    "    clf__kernel        = [\"linear\", \"poly\",\"sigmoid\"],\n",
    "    clf__C             = np.logspace(0,2,5)\n",
    "    #clf__class_weight  = [{1:1,0:1},{1:2,0:1},{1:3,0:0.5}]\n",
    ")\n",
    "\n",
    "un_svc_grid_search = GridSearchCV(un_svc_pipeline, hyperparameters,cv=3,scoring='f1_macro')\n",
    "\n",
    "un_svc_grid_search.fit(undersampled_train_x, undersampled_train_y)\n",
    "\n",
    "un_svc_grid_search.best_score_"
   ]
  },
  {
   "cell_type": "code",
   "execution_count": 71,
   "metadata": {},
   "outputs": [
    {
     "data": {
      "text/plain": [
       "{'clf__C': 1.0,\n",
       " 'clf__class_weight': {1: 1, 0: 1},\n",
       " 'clf__kernel': 'sigmoid',\n",
       " 'tfidf__min_df': 4,\n",
       " 'tfidf__ngram_range': (1, 2)}"
      ]
     },
     "execution_count": 71,
     "metadata": {},
     "output_type": "execute_result"
    }
   ],
   "source": [
    "un_svc_grid_search.best_params_"
   ]
  },
  {
   "cell_type": "markdown",
   "metadata": {},
   "source": [
    "__Test Scores For SVC()__"
   ]
  },
  {
   "cell_type": "code",
   "execution_count": 72,
   "metadata": {},
   "outputs": [
    {
     "name": "stdout",
     "output_type": "stream",
     "text": [
      "              precision    recall  f1-score   support\n",
      "\n",
      "           0       0.96      0.85      0.90       144\n",
      "           1       0.68      0.90      0.77        49\n",
      "\n",
      "    accuracy                           0.87       193\n",
      "   macro avg       0.82      0.88      0.84       193\n",
      "weighted avg       0.89      0.87      0.87       193\n",
      "\n"
     ]
    }
   ],
   "source": [
    "print(classification_report(test_labels,\n",
    "                            un_svc_grid_search.predict(test_articles)))"
   ]
  },
  {
   "cell_type": "code",
   "execution_count": 73,
   "metadata": {},
   "outputs": [
    {
     "data": {
      "text/plain": [
       "array([[123,  21],\n",
       "       [  5,  44]], dtype=int64)"
      ]
     },
     "execution_count": 73,
     "metadata": {},
     "output_type": "execute_result"
    }
   ],
   "source": [
    "confusion_matrix(test_labels,\n",
    "                 un_svc_grid_search.predict(test_articles))"
   ]
  },
  {
   "cell_type": "code",
   "execution_count": 84,
   "metadata": {},
   "outputs": [],
   "source": [
    "filename = 'un_svc_model.sav'\n",
    "pickle.dump(un_svc_grid_search, open(\"models/\"+filename, 'wb'))"
   ]
  },
  {
   "cell_type": "markdown",
   "metadata": {},
   "source": [
    "### 4.2.3 KNN Classifier"
   ]
  },
  {
   "cell_type": "code",
   "execution_count": 64,
   "metadata": {},
   "outputs": [
    {
     "data": {
      "text/plain": [
       "0.8224343640233615"
      ]
     },
     "execution_count": 64,
     "metadata": {},
     "output_type": "execute_result"
    }
   ],
   "source": [
    "un_knn_pipeline = Pipeline([\n",
    "    ('tfidf', TfidfVectorizer()),\n",
    "    ('clf',KNeighborsClassifier()),\n",
    "])\n",
    "\n",
    "hyperparameters = dict(\n",
    "    tfidf__min_df      = (1, 4, 10, 16, 20),\n",
    "    tfidf__ngram_range = ((1, 1), (1, 2)),\n",
    "    clf__n_neighbors   = (10,15,20,25),\n",
    "    clf__weights       = ('uniform','distance'),\n",
    "    clf__p             = (1,2)\n",
    ")\n",
    "\n",
    "un_knn_grid_search = GridSearchCV(un_knn_pipeline, \n",
    "                                  hyperparameters,\n",
    "                                  cv=3,\n",
    "                                  scoring='f1_macro')\n",
    "\n",
    "un_knn_grid_search.fit(undersampled_train_x, undersampled_train_y)\n",
    "\n",
    "un_knn_grid_search.best_score_"
   ]
  },
  {
   "cell_type": "code",
   "execution_count": 65,
   "metadata": {},
   "outputs": [
    {
     "data": {
      "text/plain": [
       "{'clf__n_neighbors': 20,\n",
       " 'clf__p': 2,\n",
       " 'clf__weights': 'uniform',\n",
       " 'tfidf__min_df': 4,\n",
       " 'tfidf__ngram_range': (1, 2)}"
      ]
     },
     "execution_count": 65,
     "metadata": {},
     "output_type": "execute_result"
    }
   ],
   "source": [
    "un_knn_grid_search.best_params_"
   ]
  },
  {
   "cell_type": "markdown",
   "metadata": {},
   "source": [
    "__Test Scores For SVC()__"
   ]
  },
  {
   "cell_type": "code",
   "execution_count": 66,
   "metadata": {},
   "outputs": [
    {
     "name": "stdout",
     "output_type": "stream",
     "text": [
      "              precision    recall  f1-score   support\n",
      "\n",
      "           0       0.96      0.70      0.81       144\n",
      "           1       0.51      0.92      0.66        49\n",
      "\n",
      "    accuracy                           0.76       193\n",
      "   macro avg       0.74      0.81      0.73       193\n",
      "weighted avg       0.85      0.76      0.77       193\n",
      "\n"
     ]
    }
   ],
   "source": [
    "print(classification_report(test_labels,\n",
    "                            un_knn_grid_search.predict(test_articles)))"
   ]
  },
  {
   "cell_type": "markdown",
   "metadata": {},
   "source": [
    "#### Undersampling is not providing better results and LogisticRegression is giving slightly better results than SVC() on the original data."
   ]
  }
 ],
 "metadata": {
  "kernelspec": {
   "display_name": "Python 3",
   "language": "python",
   "name": "python3"
  },
  "language_info": {
   "codemirror_mode": {
    "name": "ipython",
    "version": 3
   },
   "file_extension": ".py",
   "mimetype": "text/x-python",
   "name": "python",
   "nbconvert_exporter": "python",
   "pygments_lexer": "ipython3",
   "version": "3.7.4"
  }
 },
 "nbformat": 4,
 "nbformat_minor": 2
}

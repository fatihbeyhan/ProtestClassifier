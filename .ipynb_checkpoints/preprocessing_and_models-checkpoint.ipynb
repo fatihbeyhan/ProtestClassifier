{
 "cells": [
  {
   "cell_type": "code",
   "execution_count": 2,
   "metadata": {},
   "outputs": [],
   "source": [
    "import pandas as pd\n",
    "from nltk.stem import WordNetLemmatizer, SnowballStemmer\n",
    "import nltk\n",
    "from nltk.corpus import stopwords\n",
    "import matplotlib.pyplot as plt\n",
    "import numpy as np\n",
    "from sklearn.feature_extraction.text import TfidfVectorizer,CountVectorizer,TfidfTransformer\n",
    "from sklearn.svm import SVC,LinearSVC\n",
    "from sklearn.linear_model import LogisticRegression\n",
    "from sklearn.model_selection import cross_val_score,train_test_split,GridSearchCV\n",
    "from sklearn.metrics import roc_auc_score,confusion_matrix,accuracy_score,f1_score,precision_score,recall_score,precision_recall_fscore_support,classification_report\n",
    "from sklearn.decomposition import PCA\n",
    "from sklearn.pipeline import Pipeline\n",
    "import seaborn as sns\n",
    "import pickle\n",
    "%matplotlib inline\n",
    "stopwords = stopwords.words('english')"
   ]
  },
  {
   "cell_type": "markdown",
   "metadata": {},
   "source": [
    "## Load Trained Models"
   ]
  },
  {
   "cell_type": "code",
   "execution_count": 11,
   "metadata": {},
   "outputs": [],
   "source": [
    "MODEL = \"un_logistic_model.sav\"\n",
    "loaded_model = pickle.load(open(\"models/\"+MODEL, 'rb'))"
   ]
  },
  {
   "cell_type": "code",
   "execution_count": 12,
   "metadata": {},
   "outputs": [
    {
     "data": {
      "text/plain": [
       "{'clf__C': 1.0,\n",
       " 'clf__class_weight': {1: 1, 0: 1},\n",
       " 'tfidf__min_df': 4,\n",
       " 'tfidf__ngram_range': (1, 1)}"
      ]
     },
     "execution_count": 12,
     "metadata": {},
     "output_type": "execute_result"
    }
   ],
   "source": [
    "loaded_model.best_params_"
   ]
  },
  {
   "cell_type": "markdown",
   "metadata": {},
   "source": [
    "## 1. preprocessing"
   ]
  },
  {
   "cell_type": "code",
   "execution_count": 2,
   "metadata": {},
   "outputs": [],
   "source": [
    "# getting the extracted news as df\n",
    "data = pd.read_csv('data/extracted_data.csv').drop('Unnamed: 0', axis=1)\n",
    "data.columns = ['url','section','location','headline','text','label']\n",
    "\n",
    "\n",
    "# getting the extracted test news as df\n",
    "data_test = pd.read_csv('data/extracted_test_data.csv').drop('Unnamed: 0', axis=1)\n",
    "data_test.columns = ['url','section','location','headline','text','label']"
   ]
  },
  {
   "cell_type": "code",
   "execution_count": 3,
   "metadata": {},
   "outputs": [],
   "source": [
    "# merging headline and content as another column and create another dataframe with jusst text and label.\n",
    "df = pd.DataFrame([data.headline+\". \"+data.text,data.label]).transpose()\n",
    "df.columns = ['text','label']\n",
    "\n",
    "\n",
    "# merging headline and content as another column and create another dataframe with jusst text and label.\n",
    "df_test = pd.DataFrame([data_test.headline+\". \"+data_test.text,data_test.label]).transpose()\n",
    "df_test.columns = ['text','label']"
   ]
  },
  {
   "cell_type": "code",
   "execution_count": 4,
   "metadata": {},
   "outputs": [
    {
     "data": {
      "text/plain": [
       "0      Readers mail. SC ruling on alimony The Supreme...\n",
       "1      Niqaab is ‘the elephant in the courtroom’, say...\n",
       "2      Grandparents honoured. Staff and students of G...\n",
       "3      Fishermen call off strike. The country boat fi...\n",
       "4      Badal meets PM, seeks clemency for Bhullar. Pu...\n",
       "                             ...                        \n",
       "576    Profit not his motive. Taking cue from the sch...\n",
       "577    Music concert. A musical tribute to legendary ...\n",
       "578    Blind pursuit. The audience is tired of watchi...\n",
       "579    Pakistan kills 31 militants in airstrikes. Pak...\n",
       "580    Centre to hold talks to end Manipur crisis. Th...\n",
       "Name: text, Length: 581, dtype: object"
      ]
     },
     "execution_count": 4,
     "metadata": {},
     "output_type": "execute_result"
    }
   ],
   "source": [
    "# here is the text\n",
    "df.text"
   ]
  },
  {
   "cell_type": "code",
   "execution_count": 5,
   "metadata": {},
   "outputs": [],
   "source": [
    "# preprocessing function \n",
    "    # split an article into sentences\n",
    "        # go to each sentence and split it to words\n",
    "            # if this word  is not in stopwords or other common words I've decided\n",
    "                #AND\n",
    "                   # if its alphabetic (getting rid of puctuation and numbers)\n",
    "                        #AND\n",
    "                            # if len of the word is greater than 2\n",
    "                            \n",
    "                            # lemmatize and lowercase the the word\n",
    "                            \n",
    "                            # return the cleaned article\n",
    "def preprocess(news):\n",
    "    l = WordNetLemmatizer()\n",
    "    sentences = news.split(\".\")\n",
    "    return \" \".join([l.lemmatize(word.lower()) for sentence in sentences for word in sentence.split() if word not in stopwords if word.isalpha() if len(word)> 2 if word.lower() not in [\"said\",\"the\",\"first\",\"also\",\"would\",\"one\",\"two\",\"they\"]])"
   ]
  },
  {
   "cell_type": "code",
   "execution_count": 6,
   "metadata": {},
   "outputs": [],
   "source": [
    "# apply preprocess() function to each article\n",
    "df['text'] = df['text'].map(preprocess)\n",
    "\n",
    "\n",
    "\n",
    "# apply preprocess() function to each article\n",
    "df_test['text'] = df_test['text'].map(preprocess)"
   ]
  },
  {
   "cell_type": "code",
   "execution_count": 7,
   "metadata": {},
   "outputs": [
    {
     "data": {
      "text/plain": [
       "0      reader mail ruling alimony supreme court exten...\n",
       "1      niqaab elephant say judge person may give evid...\n",
       "2      grandparent honoured staff student global publ...\n",
       "3      fisherman call strike country boat fisherman l...\n",
       "4      badal meet seek clemency bhullar punjab chief ...\n",
       "                             ...                        \n",
       "576    profit motive taking cue scheme implemented st...\n",
       "577    music concert musical tribute legendary mystic...\n",
       "578    blind pursuit audience tired watching actor pl...\n",
       "579    pakistan kill militant airstrikes pakistani ai...\n",
       "580    centre hold talk end manipur crisis centre dec...\n",
       "Name: text, Length: 581, dtype: object"
      ]
     },
     "execution_count": 7,
     "metadata": {},
     "output_type": "execute_result"
    }
   ],
   "source": [
    "df.text"
   ]
  },
  {
   "cell_type": "markdown",
   "metadata": {},
   "source": [
    "##### **Our data is ready to be fed into vectorizers.**"
   ]
  },
  {
   "cell_type": "markdown",
   "metadata": {},
   "source": [
    "## 2. exploratory data analysis"
   ]
  },
  {
   "cell_type": "markdown",
   "metadata": {},
   "source": [
    "### 2.1 word freqs and lenghts"
   ]
  },
  {
   "cell_type": "code",
   "execution_count": 8,
   "metadata": {},
   "outputs": [],
   "source": [
    "def give_stats(list_of_articles):\n",
    "    \n",
    "    number_of_sentences = []\n",
    "    number_of_words = []\n",
    "    \n",
    "    for article in list_of_articles:\n",
    "        \n",
    "        sentences = article.split(\".\")\n",
    "        no_words = 0\n",
    "        for sen in sentences:\n",
    "            \n",
    "            words = [w for w in sen.split() if len(w) >1]\n",
    "            \n",
    "            no_words += len(words)\n",
    "            \n",
    "        number_of_sentences.append(len(sentences))\n",
    "        number_of_words.append(no_words)\n",
    "        \n",
    "    return number_of_sentences,number_of_words"
   ]
  },
  {
   "cell_type": "code",
   "execution_count": 9,
   "metadata": {},
   "outputs": [
    {
     "data": {
      "text/plain": [
       "(1, 736, 1, 11, 1.0, 129.47160068846816)"
      ]
     },
     "execution_count": 9,
     "metadata": {},
     "output_type": "execute_result"
    }
   ],
   "source": [
    "s,w = give_stats(df.text)\n",
    "\n",
    "max(s),max(w),min(s),min(w),sum(s)/len(s),sum(w)/len(w)"
   ]
  },
  {
   "cell_type": "code",
   "execution_count": 10,
   "metadata": {},
   "outputs": [
    {
     "data": {
      "text/plain": [
       "(1, 736, 1, 15, 1.0, 118.75342465753425)"
      ]
     },
     "execution_count": 10,
     "metadata": {},
     "output_type": "execute_result"
    }
   ],
   "source": [
    "s,w = give_stats(df[df.label==1].text)\n",
    "\n",
    "max(s),max(w),min(s),min(w),sum(s)/len(s),sum(w)/len(w)"
   ]
  },
  {
   "cell_type": "code",
   "execution_count": 11,
   "metadata": {},
   "outputs": [
    {
     "data": {
      "text/plain": [
       "(1, 600, 1, 11, 1.0, 133.06896551724137)"
      ]
     },
     "execution_count": 11,
     "metadata": {},
     "output_type": "execute_result"
    }
   ],
   "source": [
    "s,w = give_stats(df[df.label==0].text)\n",
    "\n",
    "max(s),max(w),min(s),min(w),sum(s)/len(s),sum(w)/len(w)"
   ]
  },
  {
   "cell_type": "code",
   "execution_count": 12,
   "metadata": {},
   "outputs": [],
   "source": [
    "# getting protest and not_protest news\n",
    "protest_news = df[df.label == 1].text\n",
    "not_protest_news = df[df.label == 0].text"
   ]
  },
  {
   "cell_type": "code",
   "execution_count": 13,
   "metadata": {},
   "outputs": [],
   "source": [
    "# freq function:\n",
    "    # this function will return the first_n frequent words with their ratio in a giving list of articles\n",
    "\n",
    "def give_freqs(list_of_articles,first_n=10):\n",
    "    freqs = {}\n",
    "    for n in list_of_articles:\n",
    "        words = set(n.split())\n",
    "\n",
    "        for w in words:\n",
    "            if w not in freqs:\n",
    "                freqs[w] = 1\n",
    "            else:\n",
    "                freqs[w] += 1\n",
    "\n",
    "    f = [(freqs[w]/len(list_of_articles),w) for w in freqs]\n",
    "    f.sort(reverse=True)\n",
    "\n",
    "    return f[:first_n]"
   ]
  },
  {
   "cell_type": "code",
   "execution_count": 14,
   "metadata": {},
   "outputs": [
    {
     "data": {
      "text/plain": [
       "[(0.3132530120481928, 'government'),\n",
       " (0.2857142857142857, 'state'),\n",
       " (0.24440619621342513, 'district'),\n",
       " (0.22719449225473323, 'year'),\n",
       " (0.22203098106712565, 'minister'),\n",
       " (0.2099827882960413, 'people'),\n",
       " (0.20654044750430292, 'take'),\n",
       " (0.20137693631669534, 'day'),\n",
       " (0.1927710843373494, 'time'),\n",
       " (0.19104991394148021, 'police')]"
      ]
     },
     "execution_count": 14,
     "metadata": {},
     "output_type": "execute_result"
    }
   ],
   "source": [
    "give_freqs(df.text)"
   ]
  },
  {
   "cell_type": "code",
   "execution_count": 15,
   "metadata": {},
   "outputs": [
    {
     "data": {
      "text/plain": [
       "[(0.4383561643835616, 'district'),\n",
       " (0.4315068493150685, 'government'),\n",
       " (0.4246575342465753, 'state'),\n",
       " (0.3972602739726027, 'protest'),\n",
       " (0.3698630136986301, 'police'),\n",
       " (0.2808219178082192, 'leader'),\n",
       " (0.2671232876712329, 'minister'),\n",
       " (0.2671232876712329, 'member'),\n",
       " (0.2465753424657534, 'demanding'),\n",
       " (0.23972602739726026, 'staged')]"
      ]
     },
     "execution_count": 15,
     "metadata": {},
     "output_type": "execute_result"
    }
   ],
   "source": [
    "give_freqs(protest_news,10)"
   ]
  },
  {
   "cell_type": "code",
   "execution_count": 16,
   "metadata": {},
   "outputs": [
    {
     "data": {
      "text/plain": [
       "[(0.2735632183908046, 'government'),\n",
       " (0.2482758620689655, 'year'),\n",
       " (0.23908045977011494, 'state'),\n",
       " (0.22528735632183908, 'take'),\n",
       " (0.21379310344827587, 'time'),\n",
       " (0.20689655172413793, 'people'),\n",
       " (0.20689655172413793, 'new'),\n",
       " (0.20689655172413793, 'minister'),\n",
       " (0.20229885057471264, 'day'),\n",
       " (0.19080459770114944, 'india')]"
      ]
     },
     "execution_count": 16,
     "metadata": {},
     "output_type": "execute_result"
    }
   ],
   "source": [
    "give_freqs(not_protest_news,10)"
   ]
  },
  {
   "cell_type": "markdown",
   "metadata": {},
   "source": [
    "##### These two list has some common words with different ratios lets get what are the differences in the top 10 words"
   ]
  },
  {
   "cell_type": "code",
   "execution_count": 17,
   "metadata": {},
   "outputs": [
    {
     "data": {
      "text/plain": [
       "{'demanding', 'district', 'leader', 'member', 'police', 'protest', 'staged'}"
      ]
     },
     "execution_count": 17,
     "metadata": {},
     "output_type": "execute_result"
    }
   ],
   "source": [
    "protest_words = set([i[1] for i in give_freqs(protest_news,10)])-set([i[1] for i in give_freqs(not_protest_news,10)])\n",
    "\n",
    "# these are protest words which are not in not_protest words\n",
    "protest_words"
   ]
  },
  {
   "cell_type": "code",
   "execution_count": 18,
   "metadata": {},
   "outputs": [
    {
     "data": {
      "text/plain": [
       "{'day', 'india', 'new', 'people', 'take', 'time', 'year'}"
      ]
     },
     "execution_count": 18,
     "metadata": {},
     "output_type": "execute_result"
    }
   ],
   "source": [
    "not_protest_words= set([i[1] for i in give_freqs(not_protest_news,10)])-set([i[1] for i in give_freqs(protest_news,10)])\n",
    "# same for the not_protest news\n",
    "not_protest_words"
   ]
  },
  {
   "cell_type": "markdown",
   "metadata": {},
   "source": [
    "### 2.2 word affects & distinctive words"
   ]
  },
  {
   "cell_type": "markdown",
   "metadata": {},
   "source": [
    "##### Now, lets figure of what a single word can tell us about articles"
   ]
  },
  {
   "cell_type": "markdown",
   "metadata": {},
   "source": [
    "#### \"protest\" affect:"
   ]
  },
  {
   "cell_type": "markdown",
   "metadata": {},
   "source": [
    "as it can be seen on the word freqs \"protest\" is exists in the ~40% of the protest news and it does not exist on the not_protest news."
   ]
  },
  {
   "cell_type": "code",
   "execution_count": 19,
   "metadata": {},
   "outputs": [],
   "source": [
    "# bayes theorem. \n",
    "    # finding the probability for being protest or not protest for an article which includes given word\n",
    "def word_affect(word):\n",
    "    number_of_occurance_in_protest_list = 0\n",
    "    for article in protest_news:\n",
    "        for w in article.split():\n",
    "            if w == word:\n",
    "                number_of_occurance_in_protest_list +=1\n",
    "                break \n",
    "                \n",
    "    number_of_occurance_in_not_protest_list = 0\n",
    "    for article in not_protest_news:\n",
    "        for w in article.split():\n",
    "            if w == word:\n",
    "                number_of_occurance_in_not_protest_list +=1\n",
    "                break       \n",
    "\n",
    "    \n",
    "    pi1 = len(protest_news)/(len(protest_news)+len(not_protest_news))\n",
    "    pi2 = len(not_protest_news)/(len(protest_news)+len(not_protest_news))\n",
    "    fkx = number_of_occurance_in_protest_list/len(protest_news)\n",
    "    fkx_ = number_of_occurance_in_not_protest_list/len(not_protest_news)\n",
    "    prob = (pi1*fkx)/((pi1*fkx)+(pi2*fkx_))\n",
    "    \n",
    "    \n",
    "    #returns (probability of protest, probability of not protest)\n",
    "        # this is might seem counterintutitive with word freqs but we must remember the ratio of news\n",
    "    return(prob,1-prob)"
   ]
  },
  {
   "cell_type": "code",
   "execution_count": 20,
   "metadata": {},
   "outputs": [
    {
     "data": {
      "text/plain": [
       "(0.7532467532467533, 0.24675324675324672)"
      ]
     },
     "execution_count": 20,
     "metadata": {},
     "output_type": "execute_result"
    }
   ],
   "source": [
    "word_affect(\"protest\")"
   ]
  },
  {
   "cell_type": "code",
   "execution_count": 21,
   "metadata": {},
   "outputs": [
    {
     "data": {
      "text/plain": [
       "(0.22222222222222224, 0.7777777777777778)"
      ]
     },
     "execution_count": 21,
     "metadata": {},
     "output_type": "execute_result"
    }
   ],
   "source": [
    "word_affect(\"holiday\")"
   ]
  },
  {
   "cell_type": "code",
   "execution_count": 22,
   "metadata": {},
   "outputs": [
    {
     "data": {
      "text/plain": [
       "(0.4864864864864864, 0.5135135135135136)"
      ]
     },
     "execution_count": 22,
     "metadata": {},
     "output_type": "execute_result"
    }
   ],
   "source": [
    "word_affect(\"police\")"
   ]
  },
  {
   "cell_type": "markdown",
   "metadata": {},
   "source": [
    "### 2.3 class disturbition"
   ]
  },
  {
   "cell_type": "code",
   "execution_count": 8,
   "metadata": {},
   "outputs": [
    {
     "name": "stdout",
     "output_type": "stream",
     "text": [
      "0    435\n",
      "1    146\n",
      "Name: label, dtype: int64\n"
     ]
    },
    {
     "data": {
      "text/plain": [
       "<matplotlib.axes._subplots.AxesSubplot at 0x1d5dab1f948>"
      ]
     },
     "execution_count": 8,
     "metadata": {},
     "output_type": "execute_result"
    },
    {
     "data": {
      "image/png": "[encoded data removed]",
      "text/plain": [
       "<Figure size 432x288 with 1 Axes>"
      ]
     },
     "metadata": {
      "needs_background": "light"
     },
     "output_type": "display_data"
    }
   ],
   "source": [
    "print(df.label.value_counts())\n",
    "df.label.hist()"
   ]
  },
  {
   "cell_type": "code",
   "execution_count": 9,
   "metadata": {},
   "outputs": [
    {
     "name": "stdout",
     "output_type": "stream",
     "text": [
      "0    144\n",
      "1     49\n",
      "Name: label, dtype: int64\n"
     ]
    },
    {
     "data": {
      "text/plain": [
       "<matplotlib.axes._subplots.AxesSubplot at 0x1d5df7fc308>"
      ]
     },
     "execution_count": 9,
     "metadata": {},
     "output_type": "execute_result"
    },
    {
     "data": {
      "image/png": "[encoded data removed]",
      "text/plain": [
       "<Figure size 432x288 with 1 Axes>"
      ]
     },
     "metadata": {
      "needs_background": "light"
     },
     "output_type": "display_data"
    }
   ],
   "source": [
    "print(df_test.label.value_counts())\n",
    "df_test.label.hist()"
   ]
  },
  {
   "cell_type": "markdown",
   "metadata": {},
   "source": [
    "- as it can be seen from the histogram, we have **unbalanced** data with ~25%,75% ratios.\n",
    "- this may cause some problems such as;\n",
    "    - focusing on wrong metrics, like accuracy, may mislead us. since, 75% of the data is 'class 0', if our model will label all the dataset as 'class 0', we'll get 75% accuracy."
   ]
  },
  {
   "cell_type": "markdown",
   "metadata": {},
   "source": [
    "##### I will first try some algorithms on whole dataset and then try to handle the \"unbalanced data\" problem withh under-sampling"
   ]
  },
  {
   "cell_type": "markdown",
   "metadata": {},
   "source": [
    "## 3. Training on Whole Data"
   ]
  },
  {
   "cell_type": "markdown",
   "metadata": {},
   "source": [
    "## 3.1 prepare data"
   ]
  },
  {
   "cell_type": "code",
   "execution_count": 38,
   "metadata": {},
   "outputs": [],
   "source": [
    "train_articles = df.text\n",
    "train_labels = list(df.label)\n",
    "\n",
    "\n",
    "test_articles =  df_test.text\n",
    "test_labels = list(df_test.label)"
   ]
  },
  {
   "cell_type": "markdown",
   "metadata": {},
   "source": [
    "## 3.2 GridSearch for Algorithms"
   ]
  },
  {
   "cell_type": "markdown",
   "metadata": {},
   "source": [
    "### 3.2.1 Logistic Regression"
   ]
  },
  {
   "cell_type": "code",
   "execution_count": 44,
   "metadata": {},
   "outputs": [
    {
     "data": {
      "text/plain": [
       "0.8692789891331468"
      ]
     },
     "execution_count": 44,
     "metadata": {},
     "output_type": "execute_result"
    }
   ],
   "source": [
    "log_pipeline = Pipeline([\n",
    "    ('tfidf', TfidfVectorizer()),\n",
    "    ('clf', LogisticRegression()),\n",
    "])\n",
    "\n",
    "hyperparameters = dict(\n",
    "    tfidf__min_df      = (4, 10, 16),\n",
    "    tfidf__ngram_range = ((1, 1), (1, 2), (1, 3)),\n",
    "    clf__C             = np.logspace(0,4,10),\n",
    "    clf__class_weight  = [{1:1,0:1},{1:2,0:1},{1:3,0:0.5}]\n",
    ")\n",
    "\n",
    "log_grid_search = GridSearchCV(log_pipeline, hyperparameters,cv=3,scoring='f1_macro')\n",
    "\n",
    "log_grid_search.fit(train_articles, train_labels)\n",
    "\n",
    "log_grid_search.best_score_"
   ]
  },
  {
   "cell_type": "code",
   "execution_count": 45,
   "metadata": {},
   "outputs": [
    {
     "data": {
      "text/plain": [
       "{'clf__C': 59.94842503189409,\n",
       " 'clf__class_weight': {1: 3, 0: 0.5},\n",
       " 'tfidf__min_df': 4,\n",
       " 'tfidf__ngram_range': (1, 2)}"
      ]
     },
     "execution_count": 45,
     "metadata": {},
     "output_type": "execute_result"
    }
   ],
   "source": [
    "log_grid_search.best_params_"
   ]
  },
  {
   "cell_type": "code",
   "execution_count": 49,
   "metadata": {},
   "outputs": [
    {
     "name": "stdout",
     "output_type": "stream",
     "text": [
      "              precision    recall  f1-score   support\n",
      "\n",
      "           0       1.00      1.00      1.00       435\n",
      "           1       1.00      1.00      1.00       146\n",
      "\n",
      "    accuracy                           1.00       581\n",
      "   macro avg       1.00      1.00      1.00       581\n",
      "weighted avg       1.00      1.00      1.00       581\n",
      "\n"
     ]
    }
   ],
   "source": [
    "print(classification_report(train_labels,\n",
    "                            log_grid_search.predict(train_articles)))"
   ]
  },
  {
   "cell_type": "markdown",
   "metadata": {},
   "source": [
    "__Test Scores For LogisticRegression()__"
   ]
  },
  {
   "cell_type": "code",
   "execution_count": 46,
   "metadata": {},
   "outputs": [
    {
     "name": "stdout",
     "output_type": "stream",
     "text": [
      "              precision    recall  f1-score   support\n",
      "\n",
      "           0       0.94      0.93      0.94       146\n",
      "           1       0.80      0.83      0.81        47\n",
      "\n",
      "    accuracy                           0.91       193\n",
      "   macro avg       0.87      0.88      0.88       193\n",
      "weighted avg       0.91      0.91      0.91       193\n",
      "\n"
     ]
    }
   ],
   "source": [
    "print(classification_report(log_grid_search.predict(test_articles),\n",
    "                            test_labels))"
   ]
  },
  {
   "cell_type": "code",
   "execution_count": 48,
   "metadata": {},
   "outputs": [
    {
     "data": {
      "text/plain": [
       "array([[136,  10],\n",
       "       [  8,  39]], dtype=int64)"
      ]
     },
     "execution_count": 48,
     "metadata": {},
     "output_type": "execute_result"
    }
   ],
   "source": [
    "confusion_matrix(log_grid_search.predict(test_articles),\n",
    "                 test_labels)"
   ]
  },
  {
   "cell_type": "code",
   "execution_count": 81,
   "metadata": {},
   "outputs": [],
   "source": [
    "filename = 'logistic_model.sav'\n",
    "pickle.dump(log_grid_search, open(\"models/\"+filename, 'wb'))"
   ]
  },
  {
   "cell_type": "markdown",
   "metadata": {},
   "source": [
    "### 3.2.2 Support Vector Classifier"
   ]
  },
  {
   "cell_type": "code",
   "execution_count": 40,
   "metadata": {},
   "outputs": [
    {
     "data": {
      "text/plain": [
       "0.8739559624669919"
      ]
     },
     "execution_count": 40,
     "metadata": {},
     "output_type": "execute_result"
    }
   ],
   "source": [
    "svc_pipeline = Pipeline([\n",
    "    ('tfidf', TfidfVectorizer()),\n",
    "    ('clf', SVC()),\n",
    "])\n",
    "\n",
    "hyperparameters = dict(\n",
    "    tfidf__min_df      = (4, 10, 16),\n",
    "    tfidf__ngram_range = ((1, 1), (1, 2), (1, 3)),\n",
    "    clf__kernel        = [\"linear\", \"poly\",\"sigmoid\"],\n",
    "    clf__C             = np.logspace(0,2,5),\n",
    "    clf__class_weight  = [{1:1,0:1},{1:2,0:1},{1:3,0:0.5}]\n",
    ")\n",
    "\n",
    "svc_grid_search = GridSearchCV(svc_pipeline, hyperparameters,cv=3,scoring='f1_macro')\n",
    "\n",
    "svc_grid_search.fit(train_articles, train_labels)\n",
    "\n",
    "svc_grid_search.best_score_"
   ]
  },
  {
   "cell_type": "code",
   "execution_count": 41,
   "metadata": {
    "scrolled": true
   },
   "outputs": [
    {
     "name": "stdout",
     "output_type": "stream",
     "text": [
      "              precision    recall  f1-score   support\n",
      "\n",
      "           0       1.00      0.97      0.98       435\n",
      "           1       0.91      1.00      0.95       146\n",
      "\n",
      "    accuracy                           0.98       581\n",
      "   macro avg       0.96      0.98      0.97       581\n",
      "weighted avg       0.98      0.98      0.98       581\n",
      "\n"
     ]
    }
   ],
   "source": [
    "print(classification_report(train_labels,\n",
    "                            svc_grid_search.predict(train_articles)))"
   ]
  },
  {
   "cell_type": "markdown",
   "metadata": {},
   "source": [
    "___Test Scores For SVC()___ "
   ]
  },
  {
   "cell_type": "code",
   "execution_count": 42,
   "metadata": {},
   "outputs": [
    {
     "name": "stdout",
     "output_type": "stream",
     "text": [
      "              precision    recall  f1-score   support\n",
      "\n",
      "           0       0.94      0.92      0.93       144\n",
      "           1       0.78      0.82      0.80        49\n",
      "\n",
      "    accuracy                           0.90       193\n",
      "   macro avg       0.86      0.87      0.87       193\n",
      "weighted avg       0.90      0.90      0.90       193\n",
      "\n"
     ]
    }
   ],
   "source": [
    "print(classification_report(test_labels,\n",
    "                            svc_grid_search.predict(test_articles)))"
   ]
  },
  {
   "cell_type": "code",
   "execution_count": 82,
   "metadata": {},
   "outputs": [],
   "source": [
    "filename = 'svc_model.sav'\n",
    "pickle.dump(svc_grid_search, open(\"models/\"+filename, 'wb'))"
   ]
  },
  {
   "cell_type": "markdown",
   "metadata": {},
   "source": [
    "On this settings, Logistic Regression is doing slighlty better than SVC"
   ]
  },
  {
   "cell_type": "markdown",
   "metadata": {},
   "source": [
    "##### Now, let's try same procedure for Under-Sampled Data"
   ]
  },
  {
   "cell_type": "markdown",
   "metadata": {},
   "source": [
    "## 4. Trainin on Under-Sampled Data"
   ]
  },
  {
   "cell_type": "markdown",
   "metadata": {},
   "source": [
    "## 4.1 prepare data"
   ]
  },
  {
   "cell_type": "code",
   "execution_count": 60,
   "metadata": {},
   "outputs": [],
   "source": [
    "undersampled_data =pd.concat([df[df.label == 0].sample(146),df[df.label == 1]]).sample(292).reset_index().drop('index',axis=1)"
   ]
  },
  {
   "cell_type": "code",
   "execution_count": 61,
   "metadata": {},
   "outputs": [],
   "source": [
    "undersampled_train_x = undersampled_data.text\n",
    "undersampled_train_y = list(undersampled_data.label)"
   ]
  },
  {
   "cell_type": "code",
   "execution_count": 64,
   "metadata": {},
   "outputs": [
    {
     "name": "stdout",
     "output_type": "stream",
     "text": [
      "1    146\n",
      "0    146\n",
      "Name: label, dtype: int64\n"
     ]
    },
    {
     "data": {
      "text/plain": [
       "<matplotlib.axes._subplots.AxesSubplot at 0x1d5dfcbb048>"
      ]
     },
     "execution_count": 64,
     "metadata": {},
     "output_type": "execute_result"
    },
    {
     "data": {
      "image/png": "[encoded data removed]",
      "text/plain": [
       "<Figure size 432x288 with 1 Axes>"
      ]
     },
     "metadata": {
      "needs_background": "light"
     },
     "output_type": "display_data"
    }
   ],
   "source": [
    "print(undersampled_data.label.value_counts())\n",
    "undersampled_data.label.hist()"
   ]
  },
  {
   "cell_type": "markdown",
   "metadata": {},
   "source": [
    "###### we achieved the balance by sacrificing on almost half of our data"
   ]
  },
  {
   "cell_type": "markdown",
   "metadata": {},
   "source": [
    "### 4.2 GridSearch for Algorithms"
   ]
  },
  {
   "cell_type": "markdown",
   "metadata": {},
   "source": [
    "#### 4.2.1 Logistic Regression"
   ]
  },
  {
   "cell_type": "code",
   "execution_count": 74,
   "metadata": {
    "scrolled": true
   },
   "outputs": [
    {
     "data": {
      "text/plain": [
       "0.8584072692277269"
      ]
     },
     "execution_count": 74,
     "metadata": {},
     "output_type": "execute_result"
    }
   ],
   "source": [
    "un_log_pipeline = Pipeline([\n",
    "    ('tfidf', TfidfVectorizer()),\n",
    "    ('clf', LogisticRegression()),\n",
    "])\n",
    "\n",
    "hyperparameters = dict(\n",
    "    tfidf__min_df      = (4, 10),\n",
    "    tfidf__ngram_range = ((1, 1), (1, 2), (1, 3)),\n",
    "    clf__C             = np.logspace(0,4,10),\n",
    "    clf__class_weight  = [{1:1,0:1},{1:2,0:1},{1:3,0:0.5}]\n",
    ")\n",
    "\n",
    "un_log_grid_search = GridSearchCV(un_log_pipeline, hyperparameters,cv=3,scoring='f1_macro')\n",
    "\n",
    "un_log_grid_search.fit(undersampled_train_x, undersampled_train_y)\n",
    "\n",
    "un_log_grid_search.best_score_"
   ]
  },
  {
   "cell_type": "code",
   "execution_count": 75,
   "metadata": {},
   "outputs": [
    {
     "data": {
      "text/plain": [
       "{'clf__C': 1.0,\n",
       " 'clf__class_weight': {1: 1, 0: 1},\n",
       " 'tfidf__min_df': 4,\n",
       " 'tfidf__ngram_range': (1, 1)}"
      ]
     },
     "execution_count": 75,
     "metadata": {},
     "output_type": "execute_result"
    }
   ],
   "source": [
    "un_log_grid_search.best_params_"
   ]
  },
  {
   "cell_type": "markdown",
   "metadata": {},
   "source": [
    "__Test Scores For LogisticRegression()__"
   ]
  },
  {
   "cell_type": "code",
   "execution_count": 76,
   "metadata": {},
   "outputs": [
    {
     "name": "stdout",
     "output_type": "stream",
     "text": [
      "              precision    recall  f1-score   support\n",
      "\n",
      "           0       0.96      0.90      0.92       144\n",
      "           1       0.74      0.88      0.80        49\n",
      "\n",
      "    accuracy                           0.89       193\n",
      "   macro avg       0.85      0.89      0.86       193\n",
      "weighted avg       0.90      0.89      0.89       193\n",
      "\n"
     ]
    }
   ],
   "source": [
    "print(classification_report(test_labels,\n",
    "                            un_log_grid_search.predict(test_articles)))"
   ]
  },
  {
   "cell_type": "code",
   "execution_count": 83,
   "metadata": {},
   "outputs": [],
   "source": [
    "filename = 'un_logistic_model.sav'\n",
    "pickle.dump(un_log_grid_search, open(\"models/\"+filename, 'wb'))"
   ]
  },
  {
   "cell_type": "markdown",
   "metadata": {},
   "source": [
    "#### 4.2.2 Support Vector Classifier"
   ]
  },
  {
   "cell_type": "code",
   "execution_count": 70,
   "metadata": {},
   "outputs": [
    {
     "data": {
      "text/plain": [
       "0.8656727205654985"
      ]
     },
     "execution_count": 70,
     "metadata": {},
     "output_type": "execute_result"
    }
   ],
   "source": [
    "un_svc_pipeline = Pipeline([\n",
    "    ('tfidf', TfidfVectorizer()),\n",
    "    ('clf', SVC()),\n",
    "])\n",
    "\n",
    "hyperparameters = dict(\n",
    "    tfidf__min_df      = (4, 10, 16),\n",
    "    tfidf__ngram_range = ((1, 1), (1, 2), (1, 3)),\n",
    "    clf__kernel        = [\"linear\", \"poly\",\"sigmoid\"],\n",
    "    clf__C             = np.logspace(0,2,5),\n",
    "    clf__class_weight  = [{1:1,0:1},{1:2,0:1},{1:3,0:0.5}]\n",
    ")\n",
    "\n",
    "un_svc_grid_search = GridSearchCV(un_svc_pipeline, hyperparameters,cv=3,scoring='f1_macro')\n",
    "\n",
    "un_svc_grid_search.fit(undersampled_train_x, undersampled_train_y)\n",
    "\n",
    "un_svc_grid_search.best_score_"
   ]
  },
  {
   "cell_type": "code",
   "execution_count": 71,
   "metadata": {},
   "outputs": [
    {
     "data": {
      "text/plain": [
       "{'clf__C': 1.0,\n",
       " 'clf__class_weight': {1: 1, 0: 1},\n",
       " 'clf__kernel': 'sigmoid',\n",
       " 'tfidf__min_df': 4,\n",
       " 'tfidf__ngram_range': (1, 2)}"
      ]
     },
     "execution_count": 71,
     "metadata": {},
     "output_type": "execute_result"
    }
   ],
   "source": [
    "un_svc_grid_search.best_params_"
   ]
  },
  {
   "cell_type": "markdown",
   "metadata": {},
   "source": [
    "__Test Scores For SVC()__"
   ]
  },
  {
   "cell_type": "code",
   "execution_count": 72,
   "metadata": {},
   "outputs": [
    {
     "name": "stdout",
     "output_type": "stream",
     "text": [
      "              precision    recall  f1-score   support\n",
      "\n",
      "           0       0.96      0.85      0.90       144\n",
      "           1       0.68      0.90      0.77        49\n",
      "\n",
      "    accuracy                           0.87       193\n",
      "   macro avg       0.82      0.88      0.84       193\n",
      "weighted avg       0.89      0.87      0.87       193\n",
      "\n"
     ]
    }
   ],
   "source": [
    "print(classification_report(test_labels,\n",
    "                            un_svc_grid_search.predict(test_articles)))"
   ]
  },
  {
   "cell_type": "code",
   "execution_count": 73,
   "metadata": {},
   "outputs": [
    {
     "data": {
      "text/plain": [
       "array([[123,  21],\n",
       "       [  5,  44]], dtype=int64)"
      ]
     },
     "execution_count": 73,
     "metadata": {},
     "output_type": "execute_result"
    }
   ],
   "source": [
    "confusion_matrix(test_labels,\n",
    "                 un_svc_grid_search.predict(test_articles))"
   ]
  },
  {
   "cell_type": "code",
   "execution_count": 84,
   "metadata": {},
   "outputs": [],
   "source": [
    "filename = 'un_svc_model.sav'\n",
    "pickle.dump(un_svc_grid_search, open(\"models/\"+filename, 'wb'))"
   ]
  },
  {
   "cell_type": "markdown",
   "metadata": {},
   "source": [
    "#### Undersampling is not providing better results and LogisticRegression is giving slightly better results than SVC() on the original data."
   ]
  }
 ],
 "metadata": {
  "kernelspec": {
   "display_name": "Python 3",
   "language": "python",
   "name": "python3"
  },
  "language_info": {
   "codemirror_mode": {
    "name": "ipython",
    "version": 3
   },
   "file_extension": ".py",
   "mimetype": "text/x-python",
   "name": "python",
   "nbconvert_exporter": "python",
   "pygments_lexer": "ipython3",
   "version": "3.7.4"
  }
 },
 "nbformat": 4,
 "nbformat_minor": 2
}

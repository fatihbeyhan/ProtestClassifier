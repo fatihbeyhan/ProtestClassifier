{
 "cells": [
  {
   "cell_type": "code",
   "execution_count": 48,
   "metadata": {},
   "outputs": [
    {
     "name": "stderr",
     "output_type": "stream",
     "text": [
      "[nltk_data] Downloading package punkt to\n",
      "[nltk_data]     C:\\Users\\FatihBeyhan\\AppData\\Roaming\\nltk_data...\n",
      "[nltk_data]   Package punkt is already up-to-date!\n",
      "[nltk_data] Downloading package stopwords to\n",
      "[nltk_data]     C:\\Users\\FatihBeyhan\\AppData\\Roaming\\nltk_data...\n",
      "[nltk_data]   Package stopwords is already up-to-date!\n"
     ]
    }
   ],
   "source": [
    "import pandas as pd\n",
    "import numpy as np\n",
    "import nltk\n",
    "from nltk.corpus import stopwords\n",
    "nltk.download('punkt')\n",
    "nltk.download('stopwords')\n",
    "stopwords = stopwords.words('english')"
   ]
  },
  {
   "cell_type": "code",
   "execution_count": 49,
   "metadata": {},
   "outputs": [
    {
     "data": {
      "text/html": [
       "<div>\n",
       "<style scoped>\n",
       "    .dataframe tbody tr th:only-of-type {\n",
       "        vertical-align: middle;\n",
       "    }\n",
       "\n",
       "    .dataframe tbody tr th {\n",
       "        vertical-align: top;\n",
       "    }\n",
       "\n",
       "    .dataframe thead th {\n",
       "        text-align: right;\n",
       "    }\n",
       "</style>\n",
       "<table border=\"1\" class=\"dataframe\">\n",
       "  <thead>\n",
       "    <tr style=\"text-align: right;\">\n",
       "      <th></th>\n",
       "      <th>text</th>\n",
       "      <th>label</th>\n",
       "    </tr>\n",
       "  </thead>\n",
       "  <tbody>\n",
       "    <tr>\n",
       "      <th>0</th>\n",
       "      <td>Readers mail. SC ruling on alimony The Supreme...</td>\n",
       "      <td>0</td>\n",
       "    </tr>\n",
       "    <tr>\n",
       "      <th>1</th>\n",
       "      <td>Niqaab is ‘the elephant in the courtroom’, say...</td>\n",
       "      <td>0</td>\n",
       "    </tr>\n",
       "    <tr>\n",
       "      <th>2</th>\n",
       "      <td>Grandparents honoured. Staff and students of G...</td>\n",
       "      <td>0</td>\n",
       "    </tr>\n",
       "    <tr>\n",
       "      <th>3</th>\n",
       "      <td>Fishermen call off strike. The country boat fi...</td>\n",
       "      <td>1</td>\n",
       "    </tr>\n",
       "    <tr>\n",
       "      <th>4</th>\n",
       "      <td>Badal meets PM, seeks clemency for Bhullar. Pu...</td>\n",
       "      <td>0</td>\n",
       "    </tr>\n",
       "  </tbody>\n",
       "</table>\n",
       "</div>"
      ],
      "text/plain": [
       "                                                text label\n",
       "0  Readers mail. SC ruling on alimony The Supreme...     0\n",
       "1  Niqaab is ‘the elephant in the courtroom’, say...     0\n",
       "2  Grandparents honoured. Staff and students of G...     0\n",
       "3  Fishermen call off strike. The country boat fi...     1\n",
       "4  Badal meets PM, seeks clemency for Bhullar. Pu...     0"
      ]
     },
     "execution_count": 49,
     "metadata": {},
     "output_type": "execute_result"
    }
   ],
   "source": [
    "# getting the extracted news as df\n",
    "data1 = pd.read_csv('../data/extracted_data.csv').drop('Unnamed: 0', axis=1)\n",
    "data1.columns = ['url','section','location','headline','text','label']\n",
    "\n",
    "\n",
    "# getting the extracted test news as df\n",
    "data2 = pd.read_csv('../data/extracted_test_data.csv').drop('Unnamed: 0', axis=1)\n",
    "data2.columns = ['url','section','location','headline','text','label']\n",
    "\n",
    "# merging headline and content as another column and create another dataframe with jusst text and label.\n",
    "df1 = pd.DataFrame([data1.headline+\". \"+data1.text,data1.label]).transpose()\n",
    "df1.columns = ['text','label']\n",
    "\n",
    "\n",
    "# merging headline and content as another column and create another dataframe with jusst text and label.\n",
    "df2 = pd.DataFrame([data2.headline+\". \"+data2.text,data2.label]).transpose()\n",
    "df2.columns = ['text','label']\n",
    "\n",
    "df = pd.concat([df1,df2])\n",
    "\n",
    "df = df.reset_index().drop('index',axis=1)\n",
    "\n",
    "test = pd.read_csv('../data/test.csv').drop('Unnamed: 0', axis=1)\n",
    "\n",
    "del data1\n",
    "del data2\n",
    "del df1\n",
    "del df2\n",
    "# here is the text\n",
    "df.head(5)"
   ]
  },
  {
   "cell_type": "code",
   "execution_count": 74,
   "metadata": {},
   "outputs": [],
   "source": [
    "class Article:\n",
    "    def __init__(self,n_words,n_sent,word,sent,label):\n",
    "        self.n_word = n_words\n",
    "        self.n_sent = n_sent\n",
    "        self.word = word\n",
    "        self.sent = sent\n",
    "        self.label = label"
   ]
  },
  {
   "cell_type": "code",
   "execution_count": 75,
   "metadata": {},
   "outputs": [],
   "source": [
    "data1 = {}\n",
    "for article in df.text.values:\n",
    "    index = list(df.text.values).index(article)\n",
    "    label = list(df.label.values)[index]\n",
    "    sents = nltk.sent_tokenize(article)\n",
    "    words = []\n",
    "    for sent in nltk.sent_tokenize(article):\n",
    "        words.append([i for i in nltk.word_tokenize(sent) if len(i)>1])\n",
    "        \n",
    "    data1[index] = Article(len([item for sublist in words for item in sublist]),len(sents),[item for sublist in words for item in sublist],sents,label)"
   ]
  },
  {
   "cell_type": "code",
   "execution_count": 76,
   "metadata": {},
   "outputs": [],
   "source": [
    "data2 = {}\n",
    "for article in test.text.values:\n",
    "    index = list(test.text.values).index(article)\n",
    "    label = None\n",
    "    sents = nltk.sent_tokenize(article)\n",
    "    words = []\n",
    "    for sent in nltk.sent_tokenize(article):\n",
    "        words.append([i for i in nltk.word_tokenize(sent) if len(i)>1])\n",
    "        \n",
    "    \n",
    "        \n",
    "    data2[index] = Article(len([item for sublist in words for item in sublist]),len(sents),[item for sublist in words for item in sublist],sents,label)"
   ]
  },
  {
   "cell_type": "code",
   "execution_count": 83,
   "metadata": {},
   "outputs": [],
   "source": [
    "def len_disturbutions(d):\n",
    "    sent_lens = [d[i].n_sent for i in d]\n",
    "    word_lens = [d[i].n_word for i in d]\n",
    "    \n",
    "    sent_lens.sort()\n",
    "    word_lens.sort()\n",
    "    \n",
    "    hist_sent = [i+(10-(i%10)) for i in sent_lens]\n",
    "    hist_word = [i+(10-(i%10)) for i in word_lens]\n",
    "    \n",
    "    r = pd.DataFrame([hist_sent,hist_word]).transpose()\n",
    "    r.columns= ['sentences','words']\n",
    "    \n",
    "    return r.hist() "
   ]
  },
  {
   "cell_type": "code",
   "execution_count": 85,
   "metadata": {},
   "outputs": [
    {
     "data": {
      "text/plain": [
       "array([[<matplotlib.axes._subplots.AxesSubplot object at 0x0000022BB95BF788>,\n",
       "        <matplotlib.axes._subplots.AxesSubplot object at 0x0000022BB96576C8>]],\n",
       "      dtype=object)"
      ]
     },
     "execution_count": 85,
     "metadata": {},
     "output_type": "execute_result"
    },
    {
     "data": {
      "image/png": "[encoded data removed]",
      "text/plain": [
       "<Figure size 432x288 with 2 Axes>"
      ]
     },
     "metadata": {
      "needs_background": "light"
     },
     "output_type": "display_data"
    }
   ],
   "source": [
    "len_disturbutions(data1)"
   ]
  },
  {
   "cell_type": "code",
   "execution_count": 86,
   "metadata": {},
   "outputs": [
    {
     "data": {
      "text/plain": [
       "array([[<matplotlib.axes._subplots.AxesSubplot object at 0x0000022BB96E4BC8>,\n",
       "        <matplotlib.axes._subplots.AxesSubplot object at 0x0000022BB968FCC8>]],\n",
       "      dtype=object)"
      ]
     },
     "execution_count": 86,
     "metadata": {},
     "output_type": "execute_result"
    },
    {
     "data": {
      "image/png": "[encoded data removed]",
      "text/plain": [
       "<Figure size 432x288 with 2 Axes>"
      ]
     },
     "metadata": {
      "needs_background": "light"
     },
     "output_type": "display_data"
    }
   ],
   "source": [
    "len_disturbutions(data2)"
   ]
  },
  {
   "cell_type": "code",
   "execution_count": null,
   "metadata": {},
   "outputs": [],
   "source": []
  }
 ],
 "metadata": {
  "kernelspec": {
   "display_name": "Python 3",
   "language": "python",
   "name": "python3"
  },
  "language_info": {
   "codemirror_mode": {
    "name": "ipython",
    "version": 3
   },
   "file_extension": ".py",
   "mimetype": "text/x-python",
   "name": "python",
   "nbconvert_exporter": "python",
   "pygments_lexer": "ipython3",
   "version": "3.7.6"
  }
 },
 "nbformat": 4,
 "nbformat_minor": 4
}

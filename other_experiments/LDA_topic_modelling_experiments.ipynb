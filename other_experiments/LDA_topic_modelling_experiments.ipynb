{
 "cells": [
  {
   "cell_type": "code",
   "execution_count": 74,
   "metadata": {},
   "outputs": [
    {
     "name": "stderr",
     "output_type": "stream",
     "text": [
      "[nltk_data] Downloading package wordnet to\n",
      "[nltk_data]     C:\\Users\\fatihbeyhan\\AppData\\Roaming\\nltk_data...\n",
      "[nltk_data]   Package wordnet is already up-to-date!\n"
     ]
    }
   ],
   "source": [
    "import pandas as pd\n",
    "import numpy as np\n",
    "import gensim\n",
    "from gensim.utils import simple_preprocess\n",
    "from gensim.parsing.preprocessing import STOPWORDS\n",
    "from nltk.stem import WordNetLemmatizer, SnowballStemmer\n",
    "from nltk.stem.porter import *\n",
    "import numpy as np\n",
    "np.random.seed(2020)\n",
    "\n",
    "import nltk\n",
    "nltk.download('wordnet')\n",
    "from nltk.corpus import stopwords\n",
    "stopwords = stopwords.words('english')"
   ]
  },
  {
   "cell_type": "code",
   "execution_count": 75,
   "metadata": {},
   "outputs": [],
   "source": [
    "data = pd.read_csv('extracted_data.csv').drop('Unnamed: 0', axis=1)\n",
    "data.columns = ['url','section','location','headline','text','label']"
   ]
  },
  {
   "cell_type": "code",
   "execution_count": 76,
   "metadata": {},
   "outputs": [],
   "source": [
    "df = pd.DataFrame([data.headline+\". \"+data.text,data.label]).transpose()\n",
    "df.columns = ['text','label']"
   ]
  },
  {
   "cell_type": "code",
   "execution_count": 77,
   "metadata": {},
   "outputs": [
    {
     "data": {
      "text/html": [
       "<div>\n",
       "<style scoped>\n",
       "    .dataframe tbody tr th:only-of-type {\n",
       "        vertical-align: middle;\n",
       "    }\n",
       "\n",
       "    .dataframe tbody tr th {\n",
       "        vertical-align: top;\n",
       "    }\n",
       "\n",
       "    .dataframe thead th {\n",
       "        text-align: right;\n",
       "    }\n",
       "</style>\n",
       "<table border=\"1\" class=\"dataframe\">\n",
       "  <thead>\n",
       "    <tr style=\"text-align: right;\">\n",
       "      <th></th>\n",
       "      <th>text</th>\n",
       "      <th>index</th>\n",
       "    </tr>\n",
       "  </thead>\n",
       "  <tbody>\n",
       "    <tr>\n",
       "      <td>0</td>\n",
       "      <td>Readers mail. SC ruling on alimony The Supreme...</td>\n",
       "      <td>0</td>\n",
       "    </tr>\n",
       "    <tr>\n",
       "      <td>1</td>\n",
       "      <td>Niqaab is ‘the elephant in the courtroom’, say...</td>\n",
       "      <td>1</td>\n",
       "    </tr>\n",
       "    <tr>\n",
       "      <td>2</td>\n",
       "      <td>Grandparents honoured. Staff and students of G...</td>\n",
       "      <td>2</td>\n",
       "    </tr>\n",
       "    <tr>\n",
       "      <td>3</td>\n",
       "      <td>Fishermen call off strike. The country boat fi...</td>\n",
       "      <td>3</td>\n",
       "    </tr>\n",
       "    <tr>\n",
       "      <td>4</td>\n",
       "      <td>Badal meets PM, seeks clemency for Bhullar. Pu...</td>\n",
       "      <td>4</td>\n",
       "    </tr>\n",
       "  </tbody>\n",
       "</table>\n",
       "</div>"
      ],
      "text/plain": [
       "                                                text  index\n",
       "0  Readers mail. SC ruling on alimony The Supreme...      0\n",
       "1  Niqaab is ‘the elephant in the courtroom’, say...      1\n",
       "2  Grandparents honoured. Staff and students of G...      2\n",
       "3  Fishermen call off strike. The country boat fi...      3\n",
       "4  Badal meets PM, seeks clemency for Bhullar. Pu...      4"
      ]
     },
     "execution_count": 77,
     "metadata": {},
     "output_type": "execute_result"
    }
   ],
   "source": [
    "documents = pd.DataFrame(df.text)\n",
    "documents['index'] = df.index\n",
    "documents.head()"
   ]
  },
  {
   "cell_type": "code",
   "execution_count": 78,
   "metadata": {},
   "outputs": [],
   "source": [
    "def lemma(news):\n",
    "    l = WordNetLemmatizer()\n",
    "    sentences = news.split(\".\")\n",
    "    return [l.lemmatize(word).lower() for sentence in sentences for word in sentence.split() if word not in stopwords if word.isalpha() if len(word)> 2 if word.lower() not in [\"said\",\"the\",\"also\",\"government\",\"would\",\"one\"]]"
   ]
  },
  {
   "cell_type": "code",
   "execution_count": 79,
   "metadata": {},
   "outputs": [],
   "source": [
    "documents['text'] = documents['text'].map(lemma)"
   ]
  },
  {
   "cell_type": "code",
   "execution_count": 80,
   "metadata": {},
   "outputs": [
    {
     "data": {
      "text/plain": [
       "0      [readers, mail, ruling, alimony, supreme, cour...\n",
       "1      [niqaab, elephant, say, judge, person, may, gi...\n",
       "2      [grandparents, honoured, staff, student, globa...\n",
       "3      [fishermen, call, strike, country, boat, fishe...\n",
       "4      [badal, meet, seek, clemency, bhullar, punjab,...\n",
       "                             ...                        \n",
       "576    [profit, motive, taking, cue, scheme, implemen...\n",
       "577    [music, concert, musical, tribute, legendary, ...\n",
       "578    [blind, pursuit, audience, tired, watching, ac...\n",
       "579    [pakistan, kill, militant, airstrikes, pakista...\n",
       "580    [centre, hold, talk, end, manipur, crisis, cen...\n",
       "Name: text, Length: 581, dtype: object"
      ]
     },
     "execution_count": 80,
     "metadata": {},
     "output_type": "execute_result"
    }
   ],
   "source": [
    "documents.text"
   ]
  },
  {
   "cell_type": "code",
   "execution_count": 81,
   "metadata": {},
   "outputs": [
    {
     "data": {
      "text/plain": [
       "0    [readers, mail, ruling, alimony, supreme, cour...\n",
       "1    [niqaab, elephant, say, judge, person, may, gi...\n",
       "2    [grandparents, honoured, staff, student, globa...\n",
       "3    [fishermen, call, strike, country, boat, fishe...\n",
       "4    [badal, meet, seek, clemency, bhullar, punjab,...\n",
       "5    [shutdown, affect, life, srinagar, normal, lif...\n",
       "6    [mysoora, reddy, call, roadside, protest, spec...\n",
       "7    [kin, protest, hospital, family, man, died, ch...\n",
       "8    [state, police, force, fully, mobilised, home,...\n",
       "9    [idol, shop, closed, several, hundred, shop, k...\n",
       "Name: text, dtype: object"
      ]
     },
     "execution_count": 81,
     "metadata": {},
     "output_type": "execute_result"
    }
   ],
   "source": [
    "processed_docs = documents['text']\n",
    "processed_docs[:10]"
   ]
  },
  {
   "cell_type": "markdown",
   "metadata": {},
   "source": [
    "# Bag of Words"
   ]
  },
  {
   "cell_type": "code",
   "execution_count": 111,
   "metadata": {},
   "outputs": [],
   "source": [
    "dictionary = gensim.corpora.Dictionary(processed_docs)"
   ]
  },
  {
   "cell_type": "code",
   "execution_count": 112,
   "metadata": {},
   "outputs": [
    {
     "data": {
      "text/plain": [
       "14066"
      ]
     },
     "execution_count": 112,
     "metadata": {},
     "output_type": "execute_result"
    }
   ],
   "source": [
    "len(dictionary.keys())"
   ]
  },
  {
   "cell_type": "code",
   "execution_count": 113,
   "metadata": {},
   "outputs": [],
   "source": [
    "dictionary.filter_extremes(no_below=15)"
   ]
  },
  {
   "cell_type": "code",
   "execution_count": 114,
   "metadata": {},
   "outputs": [
    {
     "data": {
      "text/plain": [
       "746"
      ]
     },
     "execution_count": 114,
     "metadata": {},
     "output_type": "execute_result"
    }
   ],
   "source": [
    "len(dictionary.keys())"
   ]
  },
  {
   "cell_type": "markdown",
   "metadata": {},
   "source": [
    "# Gensim doc2bow\n"
   ]
  },
  {
   "cell_type": "code",
   "execution_count": 115,
   "metadata": {},
   "outputs": [
    {
     "data": {
      "text/plain": [
       "[(7, 1),\n",
       " (23, 1),\n",
       " (40, 1),\n",
       " (49, 1),\n",
       " (75, 1),\n",
       " (152, 1),\n",
       " (193, 1),\n",
       " (207, 1),\n",
       " (263, 1),\n",
       " (271, 1),\n",
       " (309, 1),\n",
       " (490, 1),\n",
       " (666, 1)]"
      ]
     },
     "execution_count": 115,
     "metadata": {},
     "output_type": "execute_result"
    }
   ],
   "source": [
    "bow_corpus = [dictionary.doc2bow(doc) for doc in processed_docs]\n",
    "bow_corpus[230]"
   ]
  },
  {
   "cell_type": "markdown",
   "metadata": {},
   "source": [
    "# TF-IDF"
   ]
  },
  {
   "cell_type": "code",
   "execution_count": 117,
   "metadata": {},
   "outputs": [],
   "source": [
    "from gensim import corpora, models\n",
    "tfidf = models.TfidfModel(bow_corpus)\n",
    "corpus_tfidf = tfidf[bow_corpus]"
   ]
  },
  {
   "cell_type": "markdown",
   "metadata": {},
   "source": [
    "# LDA with BOW"
   ]
  },
  {
   "cell_type": "code",
   "execution_count": 94,
   "metadata": {},
   "outputs": [],
   "source": [
    "lda_model = gensim.models.LdaMulticore(bow_corpus, num_topics=2, id2word=dictionary, passes=2, workers=2)"
   ]
  },
  {
   "cell_type": "code",
   "execution_count": 95,
   "metadata": {},
   "outputs": [
    {
     "name": "stdout",
     "output_type": "stream",
     "text": [
      "Topic: 0 \n",
      "Words: 0.004*\"district\" + 0.003*\"state\" + 0.003*\"minister\" + 0.003*\"police\" + 0.003*\"student\" + 0.003*\"india\" + 0.002*\"court\" + 0.002*\"two\" + 0.002*\"take\" + 0.002*\"year\"\n",
      "Topic: 1 \n",
      "Words: 0.005*\"police\" + 0.004*\"state\" + 0.003*\"minister\" + 0.003*\"two\" + 0.003*\"leader\" + 0.002*\"city\" + 0.002*\"people\" + 0.002*\"year\" + 0.002*\"time\" + 0.002*\"district\"\n"
     ]
    }
   ],
   "source": [
    "for idx, topic in lda_model.print_topics(-1):\n",
    "    print('Topic: {} \\nWords: {}'.format(idx, topic))"
   ]
  },
  {
   "cell_type": "markdown",
   "metadata": {},
   "source": [
    "# LDA with TF-IDF"
   ]
  },
  {
   "cell_type": "code",
   "execution_count": 122,
   "metadata": {},
   "outputs": [
    {
     "name": "stdout",
     "output_type": "stream",
     "text": [
      "Topic: 0 Word: 0.008*\"student\" + 0.007*\"year\" + 0.007*\"two\" + 0.006*\"india\" + 0.006*\"new\" + 0.006*\"police\" + 0.006*\"school\" + 0.006*\"district\" + 0.006*\"college\" + 0.006*\"road\"\n",
      "Topic: 1 Word: 0.013*\"police\" + 0.013*\"state\" + 0.010*\"minister\" + 0.010*\"party\" + 0.009*\"district\" + 0.009*\"leader\" + 0.008*\"court\" + 0.007*\"case\" + 0.006*\"chief\" + 0.006*\"people\"\n"
     ]
    }
   ],
   "source": [
    "keys = []\n",
    "lda_model_tfidf = gensim.models.LdaMulticore(bow_corpus, num_topics=2, id2word=dictionary, passes=4, workers=4)\n",
    "for idx, topic in lda_model_tfidf.print_topics(-1):\n",
    "    keys.append(topic[:10])\n",
    "    print('Topic: {} Word: {}'.format(idx, topic))"
   ]
  },
  {
   "cell_type": "code",
   "execution_count": 126,
   "metadata": {},
   "outputs": [],
   "source": [
    "results=dict([(i,0) for i in keys])"
   ]
  },
  {
   "cell_type": "code",
   "execution_count": 127,
   "metadata": {},
   "outputs": [],
   "source": [
    "for _ in data[data.label == 0].index:\n",
    "    for index, score in sorted(lda_model_tfidf[corpus_tfidf[_]], key=lambda tup: -1*tup[1]):\n",
    "        key = (lda_model_tfidf.print_topic(index, 5)[:10])\n",
    "\n",
    "        results[key] += 1\n",
    "        break"
   ]
  },
  {
   "cell_type": "code",
   "execution_count": 128,
   "metadata": {},
   "outputs": [
    {
     "data": {
      "text/plain": [
       "{'0.008*\"stu': 273, '0.013*\"pol': 162}"
      ]
     },
     "execution_count": 128,
     "metadata": {},
     "output_type": "execute_result"
    }
   ],
   "source": [
    "results"
   ]
  },
  {
   "cell_type": "code",
   "execution_count": null,
   "metadata": {},
   "outputs": [],
   "source": []
  },
  {
   "cell_type": "code",
   "execution_count": null,
   "metadata": {},
   "outputs": [],
   "source": []
  },
  {
   "cell_type": "code",
   "execution_count": 130,
   "metadata": {},
   "outputs": [
    {
     "data": {
      "text/html": [
       "<div>\n",
       "<style scoped>\n",
       "    .dataframe tbody tr th:only-of-type {\n",
       "        vertical-align: middle;\n",
       "    }\n",
       "\n",
       "    .dataframe tbody tr th {\n",
       "        vertical-align: top;\n",
       "    }\n",
       "\n",
       "    .dataframe thead th {\n",
       "        text-align: right;\n",
       "    }\n",
       "</style>\n",
       "<table border=\"1\" class=\"dataframe\">\n",
       "  <thead>\n",
       "    <tr style=\"text-align: right;\">\n",
       "      <th></th>\n",
       "      <th>0</th>\n",
       "      <th>1</th>\n",
       "      <th>2</th>\n",
       "      <th>3</th>\n",
       "      <th>4</th>\n",
       "      <th>5</th>\n",
       "      <th>6</th>\n",
       "      <th>7</th>\n",
       "      <th>8</th>\n",
       "      <th>9</th>\n",
       "      <th>...</th>\n",
       "      <th>571</th>\n",
       "      <th>572</th>\n",
       "      <th>573</th>\n",
       "      <th>574</th>\n",
       "      <th>575</th>\n",
       "      <th>576</th>\n",
       "      <th>577</th>\n",
       "      <th>578</th>\n",
       "      <th>579</th>\n",
       "      <th>580</th>\n",
       "    </tr>\n",
       "  </thead>\n",
       "  <tbody>\n",
       "    <tr>\n",
       "      <td>no_protest</td>\n",
       "      <td>0.215787</td>\n",
       "      <td>0.141548</td>\n",
       "      <td>0.849486</td>\n",
       "      <td>0.222383</td>\n",
       "      <td>0.409522</td>\n",
       "      <td>0.231869</td>\n",
       "      <td>0.27347</td>\n",
       "      <td>0.649805</td>\n",
       "      <td>0.10441</td>\n",
       "      <td>0.117688</td>\n",
       "      <td>...</td>\n",
       "      <td>0.822658</td>\n",
       "      <td>0.29123</td>\n",
       "      <td>0.875944</td>\n",
       "      <td>0.845006</td>\n",
       "      <td>0.86571</td>\n",
       "      <td>0.857943</td>\n",
       "      <td>0.682252</td>\n",
       "      <td>0.14278</td>\n",
       "      <td>0.359748</td>\n",
       "      <td>0.120421</td>\n",
       "    </tr>\n",
       "    <tr>\n",
       "      <td>protest</td>\n",
       "      <td>0.784213</td>\n",
       "      <td>0.858452</td>\n",
       "      <td>0.150514</td>\n",
       "      <td>0.777617</td>\n",
       "      <td>0.590478</td>\n",
       "      <td>0.768131</td>\n",
       "      <td>0.72653</td>\n",
       "      <td>0.350195</td>\n",
       "      <td>0.89559</td>\n",
       "      <td>0.882312</td>\n",
       "      <td>...</td>\n",
       "      <td>0.177342</td>\n",
       "      <td>0.70877</td>\n",
       "      <td>0.124056</td>\n",
       "      <td>0.154994</td>\n",
       "      <td>0.13429</td>\n",
       "      <td>0.142057</td>\n",
       "      <td>0.317748</td>\n",
       "      <td>0.85722</td>\n",
       "      <td>0.640252</td>\n",
       "      <td>0.879579</td>\n",
       "    </tr>\n",
       "  </tbody>\n",
       "</table>\n",
       "<p>2 rows × 581 columns</p>\n",
       "</div>"
      ],
      "text/plain": [
       "                 0         1         2         3         4         5    \\\n",
       "no_protest  0.215787  0.141548  0.849486  0.222383  0.409522  0.231869   \n",
       "protest     0.784213  0.858452  0.150514  0.777617  0.590478  0.768131   \n",
       "\n",
       "                6         7        8         9    ...       571      572  \\\n",
       "no_protest  0.27347  0.649805  0.10441  0.117688  ...  0.822658  0.29123   \n",
       "protest     0.72653  0.350195  0.89559  0.882312  ...  0.177342  0.70877   \n",
       "\n",
       "                 573       574      575       576       577      578  \\\n",
       "no_protest  0.875944  0.845006  0.86571  0.857943  0.682252  0.14278   \n",
       "protest     0.124056  0.154994  0.13429  0.142057  0.317748  0.85722   \n",
       "\n",
       "                 579       580  \n",
       "no_protest  0.359748  0.120421  \n",
       "protest     0.640252  0.879579  \n",
       "\n",
       "[2 rows x 581 columns]"
      ]
     },
     "execution_count": 130,
     "metadata": {},
     "output_type": "execute_result"
    }
   ],
   "source": [
    "scores = {}\n",
    "\n",
    "for _ in data.index:\n",
    "    s = {}\n",
    "    for index, score in sorted(lda_model_tfidf[corpus_tfidf[_]], key=lambda tup: -1*tup[1]):\n",
    "    \n",
    "        key = (lda_model_tfidf.print_topic(index, 5)[:10])\n",
    "\n",
    "        s[key] = score\n",
    "        #print(key,score)\n",
    "    scores[_] = s\n",
    "    \n",
    "\n",
    "dfscore = []\n",
    "for score in scores:\n",
    "    score = scores[score]\n",
    "    dfscore.append([score['0.008*\"stu'],score['0.013*\"pol']])\n",
    "    \n",
    "dfscore = pd.DataFrame(dfscore)\n",
    "dfscore.columns = ['no_protest','protest']\n",
    "\n",
    "dfscore.transpose()"
   ]
  },
  {
   "cell_type": "code",
   "execution_count": 131,
   "metadata": {},
   "outputs": [
    {
     "data": {
      "text/html": [
       "<div>\n",
       "<style scoped>\n",
       "    .dataframe tbody tr th:only-of-type {\n",
       "        vertical-align: middle;\n",
       "    }\n",
       "\n",
       "    .dataframe tbody tr th {\n",
       "        vertical-align: top;\n",
       "    }\n",
       "\n",
       "    .dataframe thead th {\n",
       "        text-align: right;\n",
       "    }\n",
       "</style>\n",
       "<table border=\"1\" class=\"dataframe\">\n",
       "  <thead>\n",
       "    <tr style=\"text-align: right;\">\n",
       "      <th></th>\n",
       "      <th>3</th>\n",
       "      <th>5</th>\n",
       "      <th>7</th>\n",
       "      <th>9</th>\n",
       "      <th>14</th>\n",
       "      <th>21</th>\n",
       "      <th>28</th>\n",
       "      <th>36</th>\n",
       "      <th>40</th>\n",
       "      <th>41</th>\n",
       "      <th>...</th>\n",
       "      <th>540</th>\n",
       "      <th>544</th>\n",
       "      <th>546</th>\n",
       "      <th>548</th>\n",
       "      <th>556</th>\n",
       "      <th>562</th>\n",
       "      <th>570</th>\n",
       "      <th>572</th>\n",
       "      <th>579</th>\n",
       "      <th>580</th>\n",
       "    </tr>\n",
       "  </thead>\n",
       "  <tbody>\n",
       "    <tr>\n",
       "      <td>no_protest</td>\n",
       "      <td>0.222383</td>\n",
       "      <td>0.231869</td>\n",
       "      <td>0.649805</td>\n",
       "      <td>0.117688</td>\n",
       "      <td>0.117215</td>\n",
       "      <td>0.373045</td>\n",
       "      <td>0.119246</td>\n",
       "      <td>0.819095</td>\n",
       "      <td>0.179839</td>\n",
       "      <td>0.1913</td>\n",
       "      <td>...</td>\n",
       "      <td>0.11473</td>\n",
       "      <td>0.497935</td>\n",
       "      <td>0.14094</td>\n",
       "      <td>0.119967</td>\n",
       "      <td>0.853197</td>\n",
       "      <td>0.292298</td>\n",
       "      <td>0.561348</td>\n",
       "      <td>0.29123</td>\n",
       "      <td>0.359748</td>\n",
       "      <td>0.120421</td>\n",
       "    </tr>\n",
       "    <tr>\n",
       "      <td>protest</td>\n",
       "      <td>0.777617</td>\n",
       "      <td>0.768131</td>\n",
       "      <td>0.350195</td>\n",
       "      <td>0.882312</td>\n",
       "      <td>0.882785</td>\n",
       "      <td>0.626955</td>\n",
       "      <td>0.880754</td>\n",
       "      <td>0.180905</td>\n",
       "      <td>0.820161</td>\n",
       "      <td>0.8087</td>\n",
       "      <td>...</td>\n",
       "      <td>0.88527</td>\n",
       "      <td>0.502065</td>\n",
       "      <td>0.85906</td>\n",
       "      <td>0.880033</td>\n",
       "      <td>0.146803</td>\n",
       "      <td>0.707702</td>\n",
       "      <td>0.438652</td>\n",
       "      <td>0.70877</td>\n",
       "      <td>0.640252</td>\n",
       "      <td>0.879579</td>\n",
       "    </tr>\n",
       "  </tbody>\n",
       "</table>\n",
       "<p>2 rows × 146 columns</p>\n",
       "</div>"
      ],
      "text/plain": [
       "                 3         5         7         9         14        21   \\\n",
       "no_protest  0.222383  0.231869  0.649805  0.117688  0.117215  0.373045   \n",
       "protest     0.777617  0.768131  0.350195  0.882312  0.882785  0.626955   \n",
       "\n",
       "                 28        36        40      41   ...      540       544  \\\n",
       "no_protest  0.119246  0.819095  0.179839  0.1913  ...  0.11473  0.497935   \n",
       "protest     0.880754  0.180905  0.820161  0.8087  ...  0.88527  0.502065   \n",
       "\n",
       "                546       548       556       562       570      572  \\\n",
       "no_protest  0.14094  0.119967  0.853197  0.292298  0.561348  0.29123   \n",
       "protest     0.85906  0.880033  0.146803  0.707702  0.438652  0.70877   \n",
       "\n",
       "                 579       580  \n",
       "no_protest  0.359748  0.120421  \n",
       "protest     0.640252  0.879579  \n",
       "\n",
       "[2 rows x 146 columns]"
      ]
     },
     "execution_count": 131,
     "metadata": {},
     "output_type": "execute_result"
    }
   ],
   "source": [
    "dfscore.transpose()[data[data.label==1].label.index]"
   ]
  },
  {
   "cell_type": "code",
   "execution_count": 132,
   "metadata": {},
   "outputs": [
    {
     "data": {
      "text/html": [
       "<div>\n",
       "<style scoped>\n",
       "    .dataframe tbody tr th:only-of-type {\n",
       "        vertical-align: middle;\n",
       "    }\n",
       "\n",
       "    .dataframe tbody tr th {\n",
       "        vertical-align: top;\n",
       "    }\n",
       "\n",
       "    .dataframe thead th {\n",
       "        text-align: right;\n",
       "    }\n",
       "</style>\n",
       "<table border=\"1\" class=\"dataframe\">\n",
       "  <thead>\n",
       "    <tr style=\"text-align: right;\">\n",
       "      <th></th>\n",
       "      <th>no_protest</th>\n",
       "      <th>protest</th>\n",
       "    </tr>\n",
       "  </thead>\n",
       "  <tbody>\n",
       "    <tr>\n",
       "      <td>0</td>\n",
       "      <td>0.215787</td>\n",
       "      <td>0.784213</td>\n",
       "    </tr>\n",
       "    <tr>\n",
       "      <td>1</td>\n",
       "      <td>0.141548</td>\n",
       "      <td>0.858452</td>\n",
       "    </tr>\n",
       "    <tr>\n",
       "      <td>2</td>\n",
       "      <td>0.849486</td>\n",
       "      <td>0.150514</td>\n",
       "    </tr>\n",
       "    <tr>\n",
       "      <td>3</td>\n",
       "      <td>0.222383</td>\n",
       "      <td>0.777617</td>\n",
       "    </tr>\n",
       "    <tr>\n",
       "      <td>4</td>\n",
       "      <td>0.409522</td>\n",
       "      <td>0.590478</td>\n",
       "    </tr>\n",
       "    <tr>\n",
       "      <td>...</td>\n",
       "      <td>...</td>\n",
       "      <td>...</td>\n",
       "    </tr>\n",
       "    <tr>\n",
       "      <td>576</td>\n",
       "      <td>0.857943</td>\n",
       "      <td>0.142057</td>\n",
       "    </tr>\n",
       "    <tr>\n",
       "      <td>577</td>\n",
       "      <td>0.682252</td>\n",
       "      <td>0.317748</td>\n",
       "    </tr>\n",
       "    <tr>\n",
       "      <td>578</td>\n",
       "      <td>0.142780</td>\n",
       "      <td>0.857220</td>\n",
       "    </tr>\n",
       "    <tr>\n",
       "      <td>579</td>\n",
       "      <td>0.359748</td>\n",
       "      <td>0.640252</td>\n",
       "    </tr>\n",
       "    <tr>\n",
       "      <td>580</td>\n",
       "      <td>0.120421</td>\n",
       "      <td>0.879579</td>\n",
       "    </tr>\n",
       "  </tbody>\n",
       "</table>\n",
       "<p>581 rows × 2 columns</p>\n",
       "</div>"
      ],
      "text/plain": [
       "     no_protest   protest\n",
       "0      0.215787  0.784213\n",
       "1      0.141548  0.858452\n",
       "2      0.849486  0.150514\n",
       "3      0.222383  0.777617\n",
       "4      0.409522  0.590478\n",
       "..          ...       ...\n",
       "576    0.857943  0.142057\n",
       "577    0.682252  0.317748\n",
       "578    0.142780  0.857220\n",
       "579    0.359748  0.640252\n",
       "580    0.120421  0.879579\n",
       "\n",
       "[581 rows x 2 columns]"
      ]
     },
     "execution_count": 132,
     "metadata": {},
     "output_type": "execute_result"
    }
   ],
   "source": [
    "dfscore"
   ]
  },
  {
   "cell_type": "code",
   "execution_count": 133,
   "metadata": {},
   "outputs": [],
   "source": [
    "dfscore.to_csv('lda_scores.csv')"
   ]
  },
  {
   "cell_type": "code",
   "execution_count": null,
   "metadata": {},
   "outputs": [],
   "source": []
  }
 ],
 "metadata": {
  "kernelspec": {
   "display_name": "Python 3",
   "language": "python",
   "name": "python3"
  },
  "language_info": {
   "codemirror_mode": {
    "name": "ipython",
    "version": 3
   },
   "file_extension": ".py",
   "mimetype": "text/x-python",
   "name": "python",
   "nbconvert_exporter": "python",
   "pygments_lexer": "ipython3",
   "version": "3.7.4"
  }
 },
 "nbformat": 4,
 "nbformat_minor": 2
}
